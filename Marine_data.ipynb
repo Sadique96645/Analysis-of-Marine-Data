{
  "nbformat": 4,
  "nbformat_minor": 0,
  "metadata": {
    "colab": {
      "name": "Marine_data.ipynb",
      "provenance": [],
      "collapsed_sections": []
    },
    "kernelspec": {
      "name": "python3",
      "display_name": "Python 3"
    },
    "language_info": {
      "name": "python"
    }
  },
  "cells": [
    {
      "cell_type": "code",
      "metadata": {
        "id": "dCp1yGx4y1QL"
      },
      "source": [
        "import pandas as pd\n",
        "import numpy as np\n",
        "import matplotlib.pyplot as plt\n",
        "%matplotlib inline\n",
        "pd.set_option('display.max_columns', None)\n",
        "import io\n",
        "from google.colab import files"
      ],
      "execution_count": 1,
      "outputs": []
    },
    {
      "cell_type": "code",
      "metadata": {
        "colab": {
          "resources": {
            "http://localhost:8080/nbextensions/google.colab/files.js": {
              "data": "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",
              "ok": true,
              "headers": [
                [
                  "content-type",
                  "application/javascript"
                ]
              ],
              "status": 200,
              "status_text": ""
            }
          },
          "base_uri": "https://localhost:8080/",
          "height": 73
        },
        "id": "5odUHHuNy8O8",
        "outputId": "62342e53-5f7d-4381-a4dd-dd03c4bc8bb4"
      },
      "source": [
        "# upload the data\n",
        "uploaded = files.upload()"
      ],
      "execution_count": 2,
      "outputs": [
        {
          "output_type": "display_data",
          "data": {
            "text/html": [
              "\n",
              "     <input type=\"file\" id=\"files-a41d2af9-3f7a-4bba-a9af-70cbe074a46c\" name=\"files[]\" multiple disabled\n",
              "        style=\"border:none\" />\n",
              "     <output id=\"result-a41d2af9-3f7a-4bba-a9af-70cbe074a46c\">\n",
              "      Upload widget is only available when the cell has been executed in the\n",
              "      current browser session. Please rerun this cell to enable.\n",
              "      </output>\n",
              "      <script src=\"/nbextensions/google.colab/files.js\"></script> "
            ],
            "text/plain": [
              "<IPython.core.display.HTML object>"
            ]
          },
          "metadata": {
            "tags": []
          }
        },
        {
          "output_type": "stream",
          "text": [
            "Saving New_Marine_data.csv to New_Marine_data.csv\n"
          ],
          "name": "stdout"
        }
      ]
    },
    {
      "cell_type": "code",
      "metadata": {
        "colab": {
          "base_uri": "https://localhost:8080/",
          "height": 380
        },
        "id": "aHkkOKdGzsXf",
        "outputId": "7bf835c7-7b67-49e4-a582-3635e34d69d2"
      },
      "source": [
        "df = pd.read_csv(io.BytesIO(uploaded.get('New_Marine_data.csv')),encoding = 'unicode_escape')\n",
        "df.head()"
      ],
      "execution_count": 3,
      "outputs": [
        {
          "output_type": "execute_result",
          "data": {
            "text/html": [
              "<div>\n",
              "<style scoped>\n",
              "    .dataframe tbody tr th:only-of-type {\n",
              "        vertical-align: middle;\n",
              "    }\n",
              "\n",
              "    .dataframe tbody tr th {\n",
              "        vertical-align: top;\n",
              "    }\n",
              "\n",
              "    .dataframe thead th {\n",
              "        text-align: right;\n",
              "    }\n",
              "</style>\n",
              "<table border=\"1\" class=\"dataframe\">\n",
              "  <thead>\n",
              "    <tr style=\"text-align: right;\">\n",
              "      <th></th>\n",
              "      <th>vsl_name</th>\n",
              "      <th>IMO NO</th>\n",
              "      <th>report date</th>\n",
              "      <th>GMT time</th>\n",
              "      <th>dft_fwd</th>\n",
              "      <th>dft_aft</th>\n",
              "      <th>displ</th>\n",
              "      <th>w_force</th>\n",
              "      <th>w_dir</th>\n",
              "      <th>rel_deg1</th>\n",
              "      <th>sea_st</th>\n",
              "      <th>stm_hrs</th>\n",
              "      <th>dst_last</th>\n",
              "      <th>swell</th>\n",
              "      <th>rel_deg2</th>\n",
              "      <th>rpm</th>\n",
              "      <th>slip</th>\n",
              "      <th>me_ho</th>\n",
              "      <th>curfavagt</th>\n",
              "      <th>curknots</th>\n",
              "      <th>Date</th>\n",
              "    </tr>\n",
              "  </thead>\n",
              "  <tbody>\n",
              "    <tr>\n",
              "      <th>0</th>\n",
              "      <td>MRT  MASTAN</td>\n",
              "      <td>6461375</td>\n",
              "      <td>07-12-2015 12:00</td>\n",
              "      <td>12-07-2015 03:00</td>\n",
              "      <td>8.32</td>\n",
              "      <td>9.75</td>\n",
              "      <td>907807</td>\n",
              "      <td>5</td>\n",
              "      <td>E</td>\n",
              "      <td>298</td>\n",
              "      <td>MODERATE</td>\n",
              "      <td>23</td>\n",
              "      <td>314</td>\n",
              "      <td>2</td>\n",
              "      <td>298</td>\n",
              "      <td>82.8</td>\n",
              "      <td>7.37</td>\n",
              "      <td>56.9</td>\n",
              "      <td>A</td>\n",
              "      <td>0.5</td>\n",
              "      <td>07-12-2015</td>\n",
              "    </tr>\n",
              "    <tr>\n",
              "      <th>1</th>\n",
              "      <td>MRT DAMPIER</td>\n",
              "      <td>6461325</td>\n",
              "      <td>20-11-2016 12:00</td>\n",
              "      <td>11-20-16 4:00</td>\n",
              "      <td>18.39</td>\n",
              "      <td>18.39</td>\n",
              "      <td>324007</td>\n",
              "      <td>5</td>\n",
              "      <td>NE</td>\n",
              "      <td>20</td>\n",
              "      <td>MODERATE</td>\n",
              "      <td>24</td>\n",
              "      <td>230</td>\n",
              "      <td>2</td>\n",
              "      <td>63</td>\n",
              "      <td>64.3</td>\n",
              "      <td>17.00</td>\n",
              "      <td>30.2</td>\n",
              "      <td>-</td>\n",
              "      <td>0.8</td>\n",
              "      <td>20-11-2016</td>\n",
              "    </tr>\n",
              "    <tr>\n",
              "      <th>2</th>\n",
              "      <td>MRT DAMPIER</td>\n",
              "      <td>6461325</td>\n",
              "      <td>21-11-2016 12:00</td>\n",
              "      <td>11-21-16 4:00</td>\n",
              "      <td>18.27</td>\n",
              "      <td>18.39</td>\n",
              "      <td>324007</td>\n",
              "      <td>3</td>\n",
              "      <td>NE</td>\n",
              "      <td>10</td>\n",
              "      <td>MODERATE</td>\n",
              "      <td>24</td>\n",
              "      <td>238</td>\n",
              "      <td>1</td>\n",
              "      <td>80</td>\n",
              "      <td>64.3</td>\n",
              "      <td>14.10</td>\n",
              "      <td>29.2</td>\n",
              "      <td>-</td>\n",
              "      <td>0.7</td>\n",
              "      <td>21-11-2016</td>\n",
              "    </tr>\n",
              "    <tr>\n",
              "      <th>3</th>\n",
              "      <td>MRT  MASTAN</td>\n",
              "      <td>6461375</td>\n",
              "      <td>23-04-2016 12:00</td>\n",
              "      <td>4-23-16 4:00</td>\n",
              "      <td>18.35</td>\n",
              "      <td>18.45</td>\n",
              "      <td>234682</td>\n",
              "      <td>4</td>\n",
              "      <td>SE</td>\n",
              "      <td>141</td>\n",
              "      <td>SLIGHT</td>\n",
              "      <td>12</td>\n",
              "      <td>119</td>\n",
              "      <td>1</td>\n",
              "      <td>141</td>\n",
              "      <td>62.7</td>\n",
              "      <td>11.19</td>\n",
              "      <td>12.6</td>\n",
              "      <td>+</td>\n",
              "      <td>0.0</td>\n",
              "      <td>23-04-2016</td>\n",
              "    </tr>\n",
              "    <tr>\n",
              "      <th>4</th>\n",
              "      <td>MRT  MASTAN</td>\n",
              "      <td>6461375</td>\n",
              "      <td>24-04-2016 12:00</td>\n",
              "      <td>4-24-16 4:00</td>\n",
              "      <td>18.35</td>\n",
              "      <td>18.45</td>\n",
              "      <td>234682</td>\n",
              "      <td>4</td>\n",
              "      <td>E</td>\n",
              "      <td>99</td>\n",
              "      <td>SLIGHT</td>\n",
              "      <td>24</td>\n",
              "      <td>244</td>\n",
              "      <td>1</td>\n",
              "      <td>279</td>\n",
              "      <td>62.6</td>\n",
              "      <td>8.61</td>\n",
              "      <td>26.1</td>\n",
              "      <td>+</td>\n",
              "      <td>0.5</td>\n",
              "      <td>24-04-2016</td>\n",
              "    </tr>\n",
              "  </tbody>\n",
              "</table>\n",
              "</div>"
            ],
            "text/plain": [
              "      vsl_name   IMO NO       report date          GMT time  dft_fwd  dft_aft  \\\n",
              "0  MRT  MASTAN  6461375  07-12-2015 12:00  12-07-2015 03:00     8.32     9.75   \n",
              "1  MRT DAMPIER  6461325  20-11-2016 12:00     11-20-16 4:00    18.39    18.39   \n",
              "2  MRT DAMPIER  6461325  21-11-2016 12:00     11-21-16 4:00    18.27    18.39   \n",
              "3  MRT  MASTAN  6461375  23-04-2016 12:00      4-23-16 4:00    18.35    18.45   \n",
              "4  MRT  MASTAN  6461375  24-04-2016 12:00      4-24-16 4:00    18.35    18.45   \n",
              "\n",
              "    displ  w_force                 w_dir  rel_deg1                sea_st  \\\n",
              "0  907807        5                     E       298              MODERATE   \n",
              "1  324007        5  NE                          20  MODERATE               \n",
              "2  324007        3  NE                          10  MODERATE               \n",
              "3  234682        4  SE                         141  SLIGHT                 \n",
              "4  234682        4  E                           99  SLIGHT                 \n",
              "\n",
              "   stm_hrs  dst_last  swell  rel_deg2   rpm   slip  me_ho curfavagt  curknots  \\\n",
              "0       23       314      2       298  82.8   7.37   56.9         A       0.5   \n",
              "1       24       230      2        63  64.3  17.00   30.2         -       0.8   \n",
              "2       24       238      1        80  64.3  14.10   29.2         -       0.7   \n",
              "3       12       119      1       141  62.7  11.19   12.6         +       0.0   \n",
              "4       24       244      1       279  62.6   8.61   26.1         +       0.5   \n",
              "\n",
              "         Date  \n",
              "0  07-12-2015  \n",
              "1  20-11-2016  \n",
              "2  21-11-2016  \n",
              "3  23-04-2016  \n",
              "4  24-04-2016  "
            ]
          },
          "metadata": {
            "tags": []
          },
          "execution_count": 3
        }
      ]
    },
    {
      "cell_type": "code",
      "metadata": {
        "colab": {
          "base_uri": "https://localhost:8080/",
          "height": 304
        },
        "id": "mPrgxmx50E5y",
        "outputId": "5df00a62-ebd7-4212-e987-06934fabb490"
      },
      "source": [
        "df.describe()"
      ],
      "execution_count": 4,
      "outputs": [
        {
          "output_type": "execute_result",
          "data": {
            "text/html": [
              "<div>\n",
              "<style scoped>\n",
              "    .dataframe tbody tr th:only-of-type {\n",
              "        vertical-align: middle;\n",
              "    }\n",
              "\n",
              "    .dataframe tbody tr th {\n",
              "        vertical-align: top;\n",
              "    }\n",
              "\n",
              "    .dataframe thead th {\n",
              "        text-align: right;\n",
              "    }\n",
              "</style>\n",
              "<table border=\"1\" class=\"dataframe\">\n",
              "  <thead>\n",
              "    <tr style=\"text-align: right;\">\n",
              "      <th></th>\n",
              "      <th>IMO NO</th>\n",
              "      <th>dft_fwd</th>\n",
              "      <th>dft_aft</th>\n",
              "      <th>displ</th>\n",
              "      <th>w_force</th>\n",
              "      <th>rel_deg1</th>\n",
              "      <th>stm_hrs</th>\n",
              "      <th>dst_last</th>\n",
              "      <th>swell</th>\n",
              "      <th>rel_deg2</th>\n",
              "      <th>rpm</th>\n",
              "      <th>slip</th>\n",
              "      <th>me_ho</th>\n",
              "      <th>curknots</th>\n",
              "    </tr>\n",
              "  </thead>\n",
              "  <tbody>\n",
              "    <tr>\n",
              "      <th>count</th>\n",
              "      <td>2.921000e+03</td>\n",
              "      <td>2921.000000</td>\n",
              "      <td>2921.000000</td>\n",
              "      <td>2921.000000</td>\n",
              "      <td>2921.000000</td>\n",
              "      <td>2921.000000</td>\n",
              "      <td>2921.000000</td>\n",
              "      <td>2921.000000</td>\n",
              "      <td>2921.000000</td>\n",
              "      <td>2921.000000</td>\n",
              "      <td>2921.000000</td>\n",
              "      <td>2921.000000</td>\n",
              "      <td>2921.000000</td>\n",
              "      <td>2886.000000</td>\n",
              "    </tr>\n",
              "    <tr>\n",
              "      <th>mean</th>\n",
              "      <td>7.825254e+06</td>\n",
              "      <td>11.826689</td>\n",
              "      <td>12.573126</td>\n",
              "      <td>126020.930161</td>\n",
              "      <td>4.041767</td>\n",
              "      <td>170.719617</td>\n",
              "      <td>22.943855</td>\n",
              "      <td>260.002054</td>\n",
              "      <td>1.466963</td>\n",
              "      <td>164.319411</td>\n",
              "      <td>73.139312</td>\n",
              "      <td>7.745224</td>\n",
              "      <td>27.169558</td>\n",
              "      <td>0.505544</td>\n",
              "    </tr>\n",
              "    <tr>\n",
              "      <th>std</th>\n",
              "      <td>1.547929e+06</td>\n",
              "      <td>4.485666</td>\n",
              "      <td>3.803528</td>\n",
              "      <td>69470.304697</td>\n",
              "      <td>1.289699</td>\n",
              "      <td>125.040845</td>\n",
              "      <td>3.874079</td>\n",
              "      <td>81.755101</td>\n",
              "      <td>0.850677</td>\n",
              "      <td>121.396685</td>\n",
              "      <td>11.725244</td>\n",
              "      <td>9.486487</td>\n",
              "      <td>8.285352</td>\n",
              "      <td>0.519956</td>\n",
              "    </tr>\n",
              "    <tr>\n",
              "      <th>min</th>\n",
              "      <td>6.461301e+06</td>\n",
              "      <td>4.600000</td>\n",
              "      <td>6.800000</td>\n",
              "      <td>8.000000</td>\n",
              "      <td>0.000000</td>\n",
              "      <td>0.000000</td>\n",
              "      <td>0.000000</td>\n",
              "      <td>0.000000</td>\n",
              "      <td>0.000000</td>\n",
              "      <td>0.000000</td>\n",
              "      <td>0.000000</td>\n",
              "      <td>-66.700000</td>\n",
              "      <td>0.000000</td>\n",
              "      <td>-2.000000</td>\n",
              "    </tr>\n",
              "    <tr>\n",
              "      <th>25%</th>\n",
              "      <td>6.461337e+06</td>\n",
              "      <td>7.400000</td>\n",
              "      <td>9.000000</td>\n",
              "      <td>71721.000000</td>\n",
              "      <td>3.000000</td>\n",
              "      <td>45.000000</td>\n",
              "      <td>24.000000</td>\n",
              "      <td>233.000000</td>\n",
              "      <td>1.000000</td>\n",
              "      <td>45.000000</td>\n",
              "      <td>63.900000</td>\n",
              "      <td>0.950000</td>\n",
              "      <td>24.400000</td>\n",
              "      <td>0.200000</td>\n",
              "    </tr>\n",
              "    <tr>\n",
              "      <th>50%</th>\n",
              "      <td>6.461375e+06</td>\n",
              "      <td>12.020000</td>\n",
              "      <td>12.100000</td>\n",
              "      <td>98854.000000</td>\n",
              "      <td>4.000000</td>\n",
              "      <td>180.000000</td>\n",
              "      <td>24.000000</td>\n",
              "      <td>265.000000</td>\n",
              "      <td>1.000000</td>\n",
              "      <td>165.000000</td>\n",
              "      <td>69.300000</td>\n",
              "      <td>8.140000</td>\n",
              "      <td>27.200000</td>\n",
              "      <td>0.400000</td>\n",
              "    </tr>\n",
              "    <tr>\n",
              "      <th>75%</th>\n",
              "      <td>9.607148e+06</td>\n",
              "      <td>17.140000</td>\n",
              "      <td>17.400000</td>\n",
              "      <td>220169.000000</td>\n",
              "      <td>5.000000</td>\n",
              "      <td>300.000000</td>\n",
              "      <td>24.000000</td>\n",
              "      <td>297.000000</td>\n",
              "      <td>2.000000</td>\n",
              "      <td>280.000000</td>\n",
              "      <td>82.400000</td>\n",
              "      <td>13.700000</td>\n",
              "      <td>30.200000</td>\n",
              "      <td>0.700000</td>\n",
              "    </tr>\n",
              "    <tr>\n",
              "      <th>max</th>\n",
              "      <td>9.629732e+06</td>\n",
              "      <td>18.480000</td>\n",
              "      <td>18.520000</td>\n",
              "      <td>907807.000000</td>\n",
              "      <td>8.000000</td>\n",
              "      <td>450.000000</td>\n",
              "      <td>29.000000</td>\n",
              "      <td>3328.000000</td>\n",
              "      <td>6.000000</td>\n",
              "      <td>450.000000</td>\n",
              "      <td>98.650000</td>\n",
              "      <td>67.520000</td>\n",
              "      <td>62.300000</td>\n",
              "      <td>4.700000</td>\n",
              "    </tr>\n",
              "  </tbody>\n",
              "</table>\n",
              "</div>"
            ],
            "text/plain": [
              "             IMO NO      dft_fwd      dft_aft          displ      w_force  \\\n",
              "count  2.921000e+03  2921.000000  2921.000000    2921.000000  2921.000000   \n",
              "mean   7.825254e+06    11.826689    12.573126  126020.930161     4.041767   \n",
              "std    1.547929e+06     4.485666     3.803528   69470.304697     1.289699   \n",
              "min    6.461301e+06     4.600000     6.800000       8.000000     0.000000   \n",
              "25%    6.461337e+06     7.400000     9.000000   71721.000000     3.000000   \n",
              "50%    6.461375e+06    12.020000    12.100000   98854.000000     4.000000   \n",
              "75%    9.607148e+06    17.140000    17.400000  220169.000000     5.000000   \n",
              "max    9.629732e+06    18.480000    18.520000  907807.000000     8.000000   \n",
              "\n",
              "          rel_deg1      stm_hrs     dst_last        swell     rel_deg2  \\\n",
              "count  2921.000000  2921.000000  2921.000000  2921.000000  2921.000000   \n",
              "mean    170.719617    22.943855   260.002054     1.466963   164.319411   \n",
              "std     125.040845     3.874079    81.755101     0.850677   121.396685   \n",
              "min       0.000000     0.000000     0.000000     0.000000     0.000000   \n",
              "25%      45.000000    24.000000   233.000000     1.000000    45.000000   \n",
              "50%     180.000000    24.000000   265.000000     1.000000   165.000000   \n",
              "75%     300.000000    24.000000   297.000000     2.000000   280.000000   \n",
              "max     450.000000    29.000000  3328.000000     6.000000   450.000000   \n",
              "\n",
              "               rpm         slip        me_ho     curknots  \n",
              "count  2921.000000  2921.000000  2921.000000  2886.000000  \n",
              "mean     73.139312     7.745224    27.169558     0.505544  \n",
              "std      11.725244     9.486487     8.285352     0.519956  \n",
              "min       0.000000   -66.700000     0.000000    -2.000000  \n",
              "25%      63.900000     0.950000    24.400000     0.200000  \n",
              "50%      69.300000     8.140000    27.200000     0.400000  \n",
              "75%      82.400000    13.700000    30.200000     0.700000  \n",
              "max      98.650000    67.520000    62.300000     4.700000  "
            ]
          },
          "metadata": {
            "tags": []
          },
          "execution_count": 4
        }
      ]
    },
    {
      "cell_type": "code",
      "metadata": {
        "colab": {
          "base_uri": "https://localhost:8080/",
          "height": 166
        },
        "id": "Jvqd7XVicB4y",
        "outputId": "357e6aaa-a16c-49fb-a800-8272f8853726"
      },
      "source": [
        "df.describe(exclude=[np.number])"
      ],
      "execution_count": 5,
      "outputs": [
        {
          "output_type": "execute_result",
          "data": {
            "text/html": [
              "<div>\n",
              "<style scoped>\n",
              "    .dataframe tbody tr th:only-of-type {\n",
              "        vertical-align: middle;\n",
              "    }\n",
              "\n",
              "    .dataframe tbody tr th {\n",
              "        vertical-align: top;\n",
              "    }\n",
              "\n",
              "    .dataframe thead th {\n",
              "        text-align: right;\n",
              "    }\n",
              "</style>\n",
              "<table border=\"1\" class=\"dataframe\">\n",
              "  <thead>\n",
              "    <tr style=\"text-align: right;\">\n",
              "      <th></th>\n",
              "      <th>vsl_name</th>\n",
              "      <th>report date</th>\n",
              "      <th>GMT time</th>\n",
              "      <th>w_dir</th>\n",
              "      <th>sea_st</th>\n",
              "      <th>curfavagt</th>\n",
              "      <th>Date</th>\n",
              "    </tr>\n",
              "  </thead>\n",
              "  <tbody>\n",
              "    <tr>\n",
              "      <th>count</th>\n",
              "      <td>2921</td>\n",
              "      <td>2921</td>\n",
              "      <td>2921</td>\n",
              "      <td>2921</td>\n",
              "      <td>2921</td>\n",
              "      <td>2921</td>\n",
              "      <td>2921</td>\n",
              "    </tr>\n",
              "    <tr>\n",
              "      <th>unique</th>\n",
              "      <td>14</td>\n",
              "      <td>400</td>\n",
              "      <td>1126</td>\n",
              "      <td>33</td>\n",
              "      <td>20</td>\n",
              "      <td>11</td>\n",
              "      <td>377</td>\n",
              "    </tr>\n",
              "    <tr>\n",
              "      <th>top</th>\n",
              "      <td>MRT DIAS</td>\n",
              "      <td>11-11-2016 12:00</td>\n",
              "      <td>11-15-16 4:00</td>\n",
              "      <td>SE</td>\n",
              "      <td>SLIGHT</td>\n",
              "      <td>-</td>\n",
              "      <td>11-11-2016</td>\n",
              "    </tr>\n",
              "    <tr>\n",
              "      <th>freq</th>\n",
              "      <td>296</td>\n",
              "      <td>13</td>\n",
              "      <td>10</td>\n",
              "      <td>491</td>\n",
              "      <td>1109</td>\n",
              "      <td>1154</td>\n",
              "      <td>14</td>\n",
              "    </tr>\n",
              "  </tbody>\n",
              "</table>\n",
              "</div>"
            ],
            "text/plain": [
              "        vsl_name       report date       GMT time                 w_dir  \\\n",
              "count       2921              2921           2921                  2921   \n",
              "unique        14               400           1126                    33   \n",
              "top     MRT DIAS  11-11-2016 12:00  11-15-16 4:00  SE                     \n",
              "freq         296                13             10                   491   \n",
              "\n",
              "                      sea_st curfavagt        Date  \n",
              "count                   2921      2921        2921  \n",
              "unique                    20        11         377  \n",
              "top     SLIGHT                       -  11-11-2016  \n",
              "freq                    1109      1154          14  "
            ]
          },
          "metadata": {
            "tags": []
          },
          "execution_count": 5
        }
      ]
    },
    {
      "cell_type": "code",
      "metadata": {
        "colab": {
          "base_uri": "https://localhost:8080/"
        },
        "id": "9N7BebkYEA0f",
        "outputId": "2813dda0-9786-4088-8bab-3675470ae0f0"
      },
      "source": [
        "df.dtypes"
      ],
      "execution_count": 6,
      "outputs": [
        {
          "output_type": "execute_result",
          "data": {
            "text/plain": [
              "vsl_name        object\n",
              "IMO NO           int64\n",
              "report date     object\n",
              "GMT time        object\n",
              "dft_fwd        float64\n",
              "dft_aft        float64\n",
              "displ            int64\n",
              "w_force          int64\n",
              "w_dir           object\n",
              "rel_deg1         int64\n",
              "sea_st          object\n",
              "stm_hrs          int64\n",
              "dst_last         int64\n",
              "swell            int64\n",
              "rel_deg2         int64\n",
              "rpm            float64\n",
              "slip           float64\n",
              "me_ho          float64\n",
              "curfavagt       object\n",
              "curknots       float64\n",
              "Date            object\n",
              "dtype: object"
            ]
          },
          "metadata": {
            "tags": []
          },
          "execution_count": 6
        }
      ]
    },
    {
      "cell_type": "code",
      "metadata": {
        "id": "oKqp-8mps3PM",
        "colab": {
          "base_uri": "https://localhost:8080/"
        },
        "outputId": "87148ff2-754d-439f-fe85-33450b0c9ff2"
      },
      "source": [
        "df.isnull().sum()"
      ],
      "execution_count": 7,
      "outputs": [
        {
          "output_type": "execute_result",
          "data": {
            "text/plain": [
              "vsl_name        0\n",
              "IMO NO          0\n",
              "report date     0\n",
              "GMT time        0\n",
              "dft_fwd         0\n",
              "dft_aft         0\n",
              "displ           0\n",
              "w_force         0\n",
              "w_dir           0\n",
              "rel_deg1        0\n",
              "sea_st          0\n",
              "stm_hrs         0\n",
              "dst_last        0\n",
              "swell           0\n",
              "rel_deg2        0\n",
              "rpm             0\n",
              "slip            0\n",
              "me_ho           0\n",
              "curfavagt       0\n",
              "curknots       35\n",
              "Date            0\n",
              "dtype: int64"
            ]
          },
          "metadata": {
            "tags": []
          },
          "execution_count": 7
        }
      ]
    },
    {
      "cell_type": "code",
      "metadata": {
        "colab": {
          "base_uri": "https://localhost:8080/",
          "height": 35
        },
        "id": "W3f_R40FBmdH",
        "outputId": "190f926b-bf17-425c-9ceb-ccd7623eae15"
      },
      "source": [
        "df.mode()['w_dir'][0]"
      ],
      "execution_count": 8,
      "outputs": [
        {
          "output_type": "execute_result",
          "data": {
            "application/vnd.google.colaboratory.intrinsic+json": {
              "type": "string"
            },
            "text/plain": [
              "'SE                  '"
            ]
          },
          "metadata": {
            "tags": []
          },
          "execution_count": 8
        }
      ]
    },
    {
      "cell_type": "code",
      "metadata": {
        "colab": {
          "base_uri": "https://localhost:8080/"
        },
        "id": "jSLHb_Wds3Ma",
        "outputId": "e36cb985-45e1-4c16-d78e-5bf79b189080"
      },
      "source": [
        "df['w_dir'] = df['w_dir'].fillna('SE')\n",
        "df['sea_st'] = df['sea_st'].fillna(df.mode()['sea_st'][0])\n",
        "df['curknots'] = df['curknots'].fillna(df.mode()['curknots'][0])\n",
        "df.isnull().sum()"
      ],
      "execution_count": 9,
      "outputs": [
        {
          "output_type": "execute_result",
          "data": {
            "text/plain": [
              "vsl_name       0\n",
              "IMO NO         0\n",
              "report date    0\n",
              "GMT time       0\n",
              "dft_fwd        0\n",
              "dft_aft        0\n",
              "displ          0\n",
              "w_force        0\n",
              "w_dir          0\n",
              "rel_deg1       0\n",
              "sea_st         0\n",
              "stm_hrs        0\n",
              "dst_last       0\n",
              "swell          0\n",
              "rel_deg2       0\n",
              "rpm            0\n",
              "slip           0\n",
              "me_ho          0\n",
              "curfavagt      0\n",
              "curknots       0\n",
              "Date           0\n",
              "dtype: int64"
            ]
          },
          "metadata": {
            "tags": []
          },
          "execution_count": 9
        }
      ]
    },
    {
      "cell_type": "code",
      "metadata": {
        "colab": {
          "base_uri": "https://localhost:8080/",
          "height": 225
        },
        "id": "5hLJIeTQGNcc",
        "outputId": "c944a006-7a88-467d-d10f-247109c0b192"
      },
      "source": [
        "final_df = df.drop(['report date', 'GMT time','IMO NO'],1).set_index('Date')\n",
        "final_df.head()"
      ],
      "execution_count": 10,
      "outputs": [
        {
          "output_type": "execute_result",
          "data": {
            "text/html": [
              "<div>\n",
              "<style scoped>\n",
              "    .dataframe tbody tr th:only-of-type {\n",
              "        vertical-align: middle;\n",
              "    }\n",
              "\n",
              "    .dataframe tbody tr th {\n",
              "        vertical-align: top;\n",
              "    }\n",
              "\n",
              "    .dataframe thead th {\n",
              "        text-align: right;\n",
              "    }\n",
              "</style>\n",
              "<table border=\"1\" class=\"dataframe\">\n",
              "  <thead>\n",
              "    <tr style=\"text-align: right;\">\n",
              "      <th></th>\n",
              "      <th>vsl_name</th>\n",
              "      <th>dft_fwd</th>\n",
              "      <th>dft_aft</th>\n",
              "      <th>displ</th>\n",
              "      <th>w_force</th>\n",
              "      <th>w_dir</th>\n",
              "      <th>rel_deg1</th>\n",
              "      <th>sea_st</th>\n",
              "      <th>stm_hrs</th>\n",
              "      <th>dst_last</th>\n",
              "      <th>swell</th>\n",
              "      <th>rel_deg2</th>\n",
              "      <th>rpm</th>\n",
              "      <th>slip</th>\n",
              "      <th>me_ho</th>\n",
              "      <th>curfavagt</th>\n",
              "      <th>curknots</th>\n",
              "    </tr>\n",
              "    <tr>\n",
              "      <th>Date</th>\n",
              "      <th></th>\n",
              "      <th></th>\n",
              "      <th></th>\n",
              "      <th></th>\n",
              "      <th></th>\n",
              "      <th></th>\n",
              "      <th></th>\n",
              "      <th></th>\n",
              "      <th></th>\n",
              "      <th></th>\n",
              "      <th></th>\n",
              "      <th></th>\n",
              "      <th></th>\n",
              "      <th></th>\n",
              "      <th></th>\n",
              "      <th></th>\n",
              "      <th></th>\n",
              "    </tr>\n",
              "  </thead>\n",
              "  <tbody>\n",
              "    <tr>\n",
              "      <th>07-12-2015</th>\n",
              "      <td>MRT  MASTAN</td>\n",
              "      <td>8.32</td>\n",
              "      <td>9.75</td>\n",
              "      <td>907807</td>\n",
              "      <td>5</td>\n",
              "      <td>E</td>\n",
              "      <td>298</td>\n",
              "      <td>MODERATE</td>\n",
              "      <td>23</td>\n",
              "      <td>314</td>\n",
              "      <td>2</td>\n",
              "      <td>298</td>\n",
              "      <td>82.8</td>\n",
              "      <td>7.37</td>\n",
              "      <td>56.9</td>\n",
              "      <td>A</td>\n",
              "      <td>0.5</td>\n",
              "    </tr>\n",
              "    <tr>\n",
              "      <th>20-11-2016</th>\n",
              "      <td>MRT DAMPIER</td>\n",
              "      <td>18.39</td>\n",
              "      <td>18.39</td>\n",
              "      <td>324007</td>\n",
              "      <td>5</td>\n",
              "      <td>NE</td>\n",
              "      <td>20</td>\n",
              "      <td>MODERATE</td>\n",
              "      <td>24</td>\n",
              "      <td>230</td>\n",
              "      <td>2</td>\n",
              "      <td>63</td>\n",
              "      <td>64.3</td>\n",
              "      <td>17.00</td>\n",
              "      <td>30.2</td>\n",
              "      <td>-</td>\n",
              "      <td>0.8</td>\n",
              "    </tr>\n",
              "    <tr>\n",
              "      <th>21-11-2016</th>\n",
              "      <td>MRT DAMPIER</td>\n",
              "      <td>18.27</td>\n",
              "      <td>18.39</td>\n",
              "      <td>324007</td>\n",
              "      <td>3</td>\n",
              "      <td>NE</td>\n",
              "      <td>10</td>\n",
              "      <td>MODERATE</td>\n",
              "      <td>24</td>\n",
              "      <td>238</td>\n",
              "      <td>1</td>\n",
              "      <td>80</td>\n",
              "      <td>64.3</td>\n",
              "      <td>14.10</td>\n",
              "      <td>29.2</td>\n",
              "      <td>-</td>\n",
              "      <td>0.7</td>\n",
              "    </tr>\n",
              "    <tr>\n",
              "      <th>23-04-2016</th>\n",
              "      <td>MRT  MASTAN</td>\n",
              "      <td>18.35</td>\n",
              "      <td>18.45</td>\n",
              "      <td>234682</td>\n",
              "      <td>4</td>\n",
              "      <td>SE</td>\n",
              "      <td>141</td>\n",
              "      <td>SLIGHT</td>\n",
              "      <td>12</td>\n",
              "      <td>119</td>\n",
              "      <td>1</td>\n",
              "      <td>141</td>\n",
              "      <td>62.7</td>\n",
              "      <td>11.19</td>\n",
              "      <td>12.6</td>\n",
              "      <td>+</td>\n",
              "      <td>0.0</td>\n",
              "    </tr>\n",
              "    <tr>\n",
              "      <th>24-04-2016</th>\n",
              "      <td>MRT  MASTAN</td>\n",
              "      <td>18.35</td>\n",
              "      <td>18.45</td>\n",
              "      <td>234682</td>\n",
              "      <td>4</td>\n",
              "      <td>E</td>\n",
              "      <td>99</td>\n",
              "      <td>SLIGHT</td>\n",
              "      <td>24</td>\n",
              "      <td>244</td>\n",
              "      <td>1</td>\n",
              "      <td>279</td>\n",
              "      <td>62.6</td>\n",
              "      <td>8.61</td>\n",
              "      <td>26.1</td>\n",
              "      <td>+</td>\n",
              "      <td>0.5</td>\n",
              "    </tr>\n",
              "  </tbody>\n",
              "</table>\n",
              "</div>"
            ],
            "text/plain": [
              "               vsl_name  dft_fwd  dft_aft   displ  w_force  \\\n",
              "Date                                                         \n",
              "07-12-2015  MRT  MASTAN     8.32     9.75  907807        5   \n",
              "20-11-2016  MRT DAMPIER    18.39    18.39  324007        5   \n",
              "21-11-2016  MRT DAMPIER    18.27    18.39  324007        3   \n",
              "23-04-2016  MRT  MASTAN    18.35    18.45  234682        4   \n",
              "24-04-2016  MRT  MASTAN    18.35    18.45  234682        4   \n",
              "\n",
              "                           w_dir  rel_deg1                sea_st  stm_hrs  \\\n",
              "Date                                                                        \n",
              "07-12-2015                     E       298              MODERATE       23   \n",
              "20-11-2016  NE                          20  MODERATE                   24   \n",
              "21-11-2016  NE                          10  MODERATE                   24   \n",
              "23-04-2016  SE                         141  SLIGHT                     12   \n",
              "24-04-2016  E                           99  SLIGHT                     24   \n",
              "\n",
              "            dst_last  swell  rel_deg2   rpm   slip  me_ho curfavagt  curknots  \n",
              "Date                                                                           \n",
              "07-12-2015       314      2       298  82.8   7.37   56.9         A       0.5  \n",
              "20-11-2016       230      2        63  64.3  17.00   30.2         -       0.8  \n",
              "21-11-2016       238      1        80  64.3  14.10   29.2         -       0.7  \n",
              "23-04-2016       119      1       141  62.7  11.19   12.6         +       0.0  \n",
              "24-04-2016       244      1       279  62.6   8.61   26.1         +       0.5  "
            ]
          },
          "metadata": {
            "tags": []
          },
          "execution_count": 10
        }
      ]
    },
    {
      "cell_type": "code",
      "metadata": {
        "id": "F1A2WPges3Jx",
        "colab": {
          "base_uri": "https://localhost:8080/"
        },
        "outputId": "e50bc4de-ca92-41ca-b422-ccff4ae00de2"
      },
      "source": [
        "def categorical_features(dataset):\n",
        "    categorical_col = dataset.select_dtypes(exclude=np.number).columns.tolist()\n",
        "    return categorical_col\n",
        "\n",
        "categorical_features(final_df)"
      ],
      "execution_count": 11,
      "outputs": [
        {
          "output_type": "execute_result",
          "data": {
            "text/plain": [
              "['vsl_name', 'w_dir', 'sea_st', 'curfavagt']"
            ]
          },
          "metadata": {
            "tags": []
          },
          "execution_count": 11
        }
      ]
    },
    {
      "cell_type": "code",
      "metadata": {
        "id": "UeheSq_wNmlE"
      },
      "source": [
        "import numpy as np\n",
        "import pandas as pd\n",
        "import matplotlib.pyplot as plt\n",
        "import seaborn as sns\n",
        "%matplotlib inline\n",
        "import warnings\n",
        "warnings.filterwarnings('ignore')\n",
        "from sklearn.preprocessing import LabelEncoder,MinMaxScaler,StandardScaler\n",
        "from sklearn.linear_model import LogisticRegression, LinearRegression\n",
        "from sklearn.tree import DecisionTreeRegressor\n",
        "from sklearn.ensemble import GradientBoostingClassifier ,RandomForestClassifier ,GradientBoostingClassifier\n",
        "from xgboost import XGBClassifier \n",
        "from sklearn.model_selection import GridSearchCV, RandomizedSearchCV\n",
        "from sklearn.linear_model import Ridge,Lasso\n",
        "from sklearn.metrics import roc_auc_score ,mean_squared_error,accuracy_score,classification_report,roc_curve,confusion_matrix,r2_score\n",
        "import warnings\n",
        "warnings.filterwarnings('ignore')\n",
        "from scipy.stats.mstats import winsorize\n",
        "from sklearn.feature_selection import RFE\n",
        "from sklearn.model_selection import train_test_split\n",
        "pd.set_option('display.max_columns',None)\n",
        "from sklearn.metrics import mean_squared_log_error"
      ],
      "execution_count": 12,
      "outputs": []
    },
    {
      "cell_type": "code",
      "metadata": {
        "colab": {
          "base_uri": "https://localhost:8080/",
          "height": 1000
        },
        "id": "hjMiYCgpNX5-",
        "outputId": "7cdc7ae5-9dc5-427d-faf4-27279a34acf1"
      },
      "source": [
        "# Function to plot boxplots\n",
        "def plot_box_plots(dataframe):\n",
        "    numeric_columns = dataframe.select_dtypes(include=['number']).columns.tolist()\n",
        "    dataframe = dataframe[numeric_columns]\n",
        "    \n",
        "    for i in range(0,len(numeric_columns),2):\n",
        "        if len(numeric_columns) > i+1:\n",
        "            plt.figure(figsize=(10,4))\n",
        "            plt.subplot(121)\n",
        "            sns.boxplot(dataframe[numeric_columns[i]])\n",
        "            plt.subplot(122)            \n",
        "            sns.boxplot(dataframe[numeric_columns[i+1]])\n",
        "            plt.tight_layout()\n",
        "            plt.show()\n",
        "\n",
        "        else:\n",
        "            sns.boxplot(dataframe[numeric_columns[i]])\n",
        "\n",
        "plot_box_plots(final_df)"
      ],
      "execution_count": 13,
      "outputs": [
        {
          "output_type": "display_data",
          "data": {
            "image/png": "[encoded data removed]",
            "text/plain": [
              "<Figure size 720x288 with 2 Axes>"
            ]
          },
          "metadata": {
            "tags": [],
            "needs_background": "light"
          }
        },
        {
          "output_type": "display_data",
          "data": {
            "image/png": "[encoded data removed]",
            "text/plain": [
              "<Figure size 720x288 with 2 Axes>"
            ]
          },
          "metadata": {
            "tags": [],
            "needs_background": "light"
          }
        },
        {
          "output_type": "display_data",
          "data": {
            "image/png": "[encoded data removed]",
            "text/plain": [
              "<Figure size 720x288 with 2 Axes>"
            ]
          },
          "metadata": {
            "tags": [],
            "needs_background": "light"
          }
        },
        {
          "output_type": "display_data",
          "data": {
            "image/png": "[encoded data removed]",
            "text/plain": [
              "<Figure size 720x288 with 2 Axes>"
            ]
          },
          "metadata": {
            "tags": [],
            "needs_background": "light"
          }
        },
        {
          "output_type": "display_data",
          "data": {
            "image/png": "[encoded data removed]",
            "text/plain": [
              "<Figure size 720x288 with 2 Axes>"
            ]
          },
          "metadata": {
            "tags": [],
            "needs_background": "light"
          }
        },
        {
          "output_type": "display_data",
          "data": {
            "image/png": "[encoded data removed]",
            "text/plain": [
              "<Figure size 720x288 with 2 Axes>"
            ]
          },
          "metadata": {
            "tags": [],
            "needs_background": "light"
          }
        },
        {
          "output_type": "display_data",
          "data": {
            "image/png": "[encoded data removed]",
            "text/plain": [
              "<Figure size 432x288 with 1 Axes>"
            ]
          },
          "metadata": {
            "tags": [],
            "needs_background": "light"
          }
        }
      ]
    },
    {
      "cell_type": "code",
      "metadata": {
        "colab": {
          "base_uri": "https://localhost:8080/",
          "height": 225
        },
        "id": "2eeGAZe6TWuA",
        "outputId": "b89ebf4a-1f46-4719-8c55-bbf1456b956c"
      },
      "source": [
        "from sklearn.preprocessing import LabelEncoder\n",
        "\n",
        "labelencoder = LabelEncoder()\n",
        "cat_col = ['vsl_name', 'w_dir', 'sea_st', 'curfavagt']\n",
        "for i in cat_col:\n",
        "  final_df[i] = labelencoder.fit_transform(final_df[i])\n",
        "final_df.head()\n"
      ],
      "execution_count": null,
      "outputs": [
        {
          "output_type": "execute_result",
          "data": {
            "text/html": [
              "<div>\n",
              "<style scoped>\n",
              "    .dataframe tbody tr th:only-of-type {\n",
              "        vertical-align: middle;\n",
              "    }\n",
              "\n",
              "    .dataframe tbody tr th {\n",
              "        vertical-align: top;\n",
              "    }\n",
              "\n",
              "    .dataframe thead th {\n",
              "        text-align: right;\n",
              "    }\n",
              "</style>\n",
              "<table border=\"1\" class=\"dataframe\">\n",
              "  <thead>\n",
              "    <tr style=\"text-align: right;\">\n",
              "      <th></th>\n",
              "      <th>vsl_name</th>\n",
              "      <th>dft_fwd</th>\n",
              "      <th>dft_aft</th>\n",
              "      <th>displ</th>\n",
              "      <th>w_force</th>\n",
              "      <th>w_dir</th>\n",
              "      <th>rel_deg1</th>\n",
              "      <th>sea_st</th>\n",
              "      <th>stm_hrs</th>\n",
              "      <th>dst_last</th>\n",
              "      <th>swell</th>\n",
              "      <th>rel_deg2</th>\n",
              "      <th>rpm</th>\n",
              "      <th>slip</th>\n",
              "      <th>me_ho</th>\n",
              "      <th>curfavagt</th>\n",
              "      <th>curknots</th>\n",
              "    </tr>\n",
              "    <tr>\n",
              "      <th>Date</th>\n",
              "      <th></th>\n",
              "      <th></th>\n",
              "      <th></th>\n",
              "      <th></th>\n",
              "      <th></th>\n",
              "      <th></th>\n",
              "      <th></th>\n",
              "      <th></th>\n",
              "      <th></th>\n",
              "      <th></th>\n",
              "      <th></th>\n",
              "      <th></th>\n",
              "      <th></th>\n",
              "      <th></th>\n",
              "      <th></th>\n",
              "      <th></th>\n",
              "      <th></th>\n",
              "    </tr>\n",
              "  </thead>\n",
              "  <tbody>\n",
              "    <tr>\n",
              "      <th>07-12-2015</th>\n",
              "      <td>1</td>\n",
              "      <td>8.32</td>\n",
              "      <td>9.75</td>\n",
              "      <td>907807</td>\n",
              "      <td>5</td>\n",
              "      <td>0</td>\n",
              "      <td>298</td>\n",
              "      <td>4</td>\n",
              "      <td>23</td>\n",
              "      <td>314</td>\n",
              "      <td>2</td>\n",
              "      <td>298</td>\n",
              "      <td>82.8</td>\n",
              "      <td>7.37</td>\n",
              "      <td>56.9</td>\n",
              "      <td>4</td>\n",
              "      <td>0.5</td>\n",
              "    </tr>\n",
              "    <tr>\n",
              "      <th>20-11-2016</th>\n",
              "      <td>6</td>\n",
              "      <td>18.39</td>\n",
              "      <td>18.39</td>\n",
              "      <td>324007</td>\n",
              "      <td>5</td>\n",
              "      <td>9</td>\n",
              "      <td>20</td>\n",
              "      <td>5</td>\n",
              "      <td>24</td>\n",
              "      <td>230</td>\n",
              "      <td>2</td>\n",
              "      <td>63</td>\n",
              "      <td>64.3</td>\n",
              "      <td>17.00</td>\n",
              "      <td>30.2</td>\n",
              "      <td>2</td>\n",
              "      <td>0.8</td>\n",
              "    </tr>\n",
              "    <tr>\n",
              "      <th>21-11-2016</th>\n",
              "      <td>6</td>\n",
              "      <td>18.27</td>\n",
              "      <td>18.39</td>\n",
              "      <td>324007</td>\n",
              "      <td>3</td>\n",
              "      <td>9</td>\n",
              "      <td>10</td>\n",
              "      <td>5</td>\n",
              "      <td>24</td>\n",
              "      <td>238</td>\n",
              "      <td>1</td>\n",
              "      <td>80</td>\n",
              "      <td>64.3</td>\n",
              "      <td>14.10</td>\n",
              "      <td>29.2</td>\n",
              "      <td>2</td>\n",
              "      <td>0.7</td>\n",
              "    </tr>\n",
              "    <tr>\n",
              "      <th>23-04-2016</th>\n",
              "      <td>1</td>\n",
              "      <td>18.35</td>\n",
              "      <td>18.45</td>\n",
              "      <td>234682</td>\n",
              "      <td>4</td>\n",
              "      <td>20</td>\n",
              "      <td>141</td>\n",
              "      <td>12</td>\n",
              "      <td>12</td>\n",
              "      <td>119</td>\n",
              "      <td>1</td>\n",
              "      <td>141</td>\n",
              "      <td>62.7</td>\n",
              "      <td>11.19</td>\n",
              "      <td>12.6</td>\n",
              "      <td>1</td>\n",
              "      <td>0.0</td>\n",
              "    </tr>\n",
              "    <tr>\n",
              "      <th>24-04-2016</th>\n",
              "      <td>1</td>\n",
              "      <td>18.35</td>\n",
              "      <td>18.45</td>\n",
              "      <td>234682</td>\n",
              "      <td>4</td>\n",
              "      <td>1</td>\n",
              "      <td>99</td>\n",
              "      <td>12</td>\n",
              "      <td>24</td>\n",
              "      <td>244</td>\n",
              "      <td>1</td>\n",
              "      <td>279</td>\n",
              "      <td>62.6</td>\n",
              "      <td>8.61</td>\n",
              "      <td>26.1</td>\n",
              "      <td>1</td>\n",
              "      <td>0.5</td>\n",
              "    </tr>\n",
              "  </tbody>\n",
              "</table>\n",
              "</div>"
            ],
            "text/plain": [
              "            vsl_name  dft_fwd  dft_aft   displ  w_force  w_dir  rel_deg1  \\\n",
              "Date                                                                       \n",
              "07-12-2015         1     8.32     9.75  907807        5      0       298   \n",
              "20-11-2016         6    18.39    18.39  324007        5      9        20   \n",
              "21-11-2016         6    18.27    18.39  324007        3      9        10   \n",
              "23-04-2016         1    18.35    18.45  234682        4     20       141   \n",
              "24-04-2016         1    18.35    18.45  234682        4      1        99   \n",
              "\n",
              "            sea_st  stm_hrs  dst_last  swell  rel_deg2   rpm   slip  me_ho  \\\n",
              "Date                                                                         \n",
              "07-12-2015       4       23       314      2       298  82.8   7.37   56.9   \n",
              "20-11-2016       5       24       230      2        63  64.3  17.00   30.2   \n",
              "21-11-2016       5       24       238      1        80  64.3  14.10   29.2   \n",
              "23-04-2016      12       12       119      1       141  62.7  11.19   12.6   \n",
              "24-04-2016      12       24       244      1       279  62.6   8.61   26.1   \n",
              "\n",
              "            curfavagt  curknots  \n",
              "Date                             \n",
              "07-12-2015          4       0.5  \n",
              "20-11-2016          2       0.8  \n",
              "21-11-2016          2       0.7  \n",
              "23-04-2016          1       0.0  \n",
              "24-04-2016          1       0.5  "
            ]
          },
          "metadata": {
            "tags": []
          },
          "execution_count": 13
        }
      ]
    },
    {
      "cell_type": "code",
      "metadata": {
        "id": "aSQZ2VNas3Bd"
      },
      "source": [
        "test_df = final_df[-100:]\n",
        "train_df = final_df[:-100]"
      ],
      "execution_count": null,
      "outputs": []
    },
    {
      "cell_type": "code",
      "metadata": {
        "id": "dm_-IeN3s2_E"
      },
      "source": [
        "# further splitting the train data into dependent & independent features\n",
        "feature_train_df = train_df.drop('me_ho',1)\n",
        "target_train_df = train_df['me_ho']\n"
      ],
      "execution_count": null,
      "outputs": []
    },
    {
      "cell_type": "code",
      "metadata": {
        "colab": {
          "base_uri": "https://localhost:8080/"
        },
        "id": "gkx2e89JwoAR",
        "outputId": "1be1b2b1-4713-41db-9364-5be06c0af8fb"
      },
      "source": [
        "train_df.shape"
      ],
      "execution_count": null,
      "outputs": [
        {
          "output_type": "execute_result",
          "data": {
            "text/plain": [
              "(2821, 17)"
            ]
          },
          "metadata": {
            "tags": []
          },
          "execution_count": 16
        }
      ]
    },
    {
      "cell_type": "code",
      "metadata": {
        "colab": {
          "base_uri": "https://localhost:8080/"
        },
        "id": "Uv5d9lU1wrzt",
        "outputId": "87c11e43-c885-457d-8cb8-34be3bf0e0c5"
      },
      "source": [
        "test_df.shape"
      ],
      "execution_count": null,
      "outputs": [
        {
          "output_type": "execute_result",
          "data": {
            "text/plain": [
              "(100, 17)"
            ]
          },
          "metadata": {
            "tags": []
          },
          "execution_count": 17
        }
      ]
    },
    {
      "cell_type": "code",
      "metadata": {
        "id": "EBeREKrxs28S"
      },
      "source": [
        "MinMax = MinMaxScaler()\n",
        "feature_train_df[['vsl_name', 'dft_fwd', 'dft_aft', 'displ', 'w_force', 'w_dir',\n",
        "       'rel_deg1', 'sea_st', 'stm_hrs', 'dst_last', 'swell', 'rel_deg2', 'rpm',\n",
        "       'slip', 'curfavagt', 'curknots']] = MinMax.fit_transform(feature_train_df[['vsl_name','dft_fwd', 'dft_aft', 'displ', 'w_force', 'w_dir',\n",
        "       'rel_deg1', 'sea_st', 'stm_hrs', 'dst_last', 'swell', 'rel_deg2', 'rpm',\n",
        "       'slip', 'curfavagt', 'curknots']])\n"
      ],
      "execution_count": null,
      "outputs": []
    },
    {
      "cell_type": "code",
      "metadata": {
        "colab": {
          "base_uri": "https://localhost:8080/",
          "height": 225
        },
        "id": "MS8juV4M5sJH",
        "outputId": "e80c9785-1884-4444-fdc8-1b138de41205"
      },
      "source": [
        "feature_train_df.head()"
      ],
      "execution_count": null,
      "outputs": [
        {
          "output_type": "execute_result",
          "data": {
            "text/html": [
              "<div>\n",
              "<style scoped>\n",
              "    .dataframe tbody tr th:only-of-type {\n",
              "        vertical-align: middle;\n",
              "    }\n",
              "\n",
              "    .dataframe tbody tr th {\n",
              "        vertical-align: top;\n",
              "    }\n",
              "\n",
              "    .dataframe thead th {\n",
              "        text-align: right;\n",
              "    }\n",
              "</style>\n",
              "<table border=\"1\" class=\"dataframe\">\n",
              "  <thead>\n",
              "    <tr style=\"text-align: right;\">\n",
              "      <th></th>\n",
              "      <th>vsl_name</th>\n",
              "      <th>dft_fwd</th>\n",
              "      <th>dft_aft</th>\n",
              "      <th>displ</th>\n",
              "      <th>w_force</th>\n",
              "      <th>w_dir</th>\n",
              "      <th>rel_deg1</th>\n",
              "      <th>sea_st</th>\n",
              "      <th>stm_hrs</th>\n",
              "      <th>dst_last</th>\n",
              "      <th>swell</th>\n",
              "      <th>rel_deg2</th>\n",
              "      <th>rpm</th>\n",
              "      <th>slip</th>\n",
              "      <th>curfavagt</th>\n",
              "      <th>curknots</th>\n",
              "    </tr>\n",
              "    <tr>\n",
              "      <th>Date</th>\n",
              "      <th></th>\n",
              "      <th></th>\n",
              "      <th></th>\n",
              "      <th></th>\n",
              "      <th></th>\n",
              "      <th></th>\n",
              "      <th></th>\n",
              "      <th></th>\n",
              "      <th></th>\n",
              "      <th></th>\n",
              "      <th></th>\n",
              "      <th></th>\n",
              "      <th></th>\n",
              "      <th></th>\n",
              "      <th></th>\n",
              "      <th></th>\n",
              "    </tr>\n",
              "  </thead>\n",
              "  <tbody>\n",
              "    <tr>\n",
              "      <th>07-12-2015</th>\n",
              "      <td>0.076923</td>\n",
              "      <td>0.240658</td>\n",
              "      <td>0.251706</td>\n",
              "      <td>1.000000</td>\n",
              "      <td>0.625</td>\n",
              "      <td>0.00000</td>\n",
              "      <td>0.662222</td>\n",
              "      <td>0.210526</td>\n",
              "      <td>0.793103</td>\n",
              "      <td>0.777228</td>\n",
              "      <td>0.333333</td>\n",
              "      <td>0.662222</td>\n",
              "      <td>0.839331</td>\n",
              "      <td>0.551855</td>\n",
              "      <td>0.4</td>\n",
              "      <td>0.373134</td>\n",
              "    </tr>\n",
              "    <tr>\n",
              "      <th>20-11-2016</th>\n",
              "      <td>0.461538</td>\n",
              "      <td>0.993274</td>\n",
              "      <td>0.988908</td>\n",
              "      <td>0.330712</td>\n",
              "      <td>0.625</td>\n",
              "      <td>0.28125</td>\n",
              "      <td>0.044444</td>\n",
              "      <td>0.263158</td>\n",
              "      <td>0.827586</td>\n",
              "      <td>0.569307</td>\n",
              "      <td>0.333333</td>\n",
              "      <td>0.140000</td>\n",
              "      <td>0.651799</td>\n",
              "      <td>0.623603</td>\n",
              "      <td>0.2</td>\n",
              "      <td>0.417910</td>\n",
              "    </tr>\n",
              "    <tr>\n",
              "      <th>21-11-2016</th>\n",
              "      <td>0.461538</td>\n",
              "      <td>0.984305</td>\n",
              "      <td>0.988908</td>\n",
              "      <td>0.330712</td>\n",
              "      <td>0.375</td>\n",
              "      <td>0.28125</td>\n",
              "      <td>0.022222</td>\n",
              "      <td>0.263158</td>\n",
              "      <td>0.827586</td>\n",
              "      <td>0.589109</td>\n",
              "      <td>0.166667</td>\n",
              "      <td>0.177778</td>\n",
              "      <td>0.651799</td>\n",
              "      <td>0.601997</td>\n",
              "      <td>0.2</td>\n",
              "      <td>0.402985</td>\n",
              "    </tr>\n",
              "    <tr>\n",
              "      <th>23-04-2016</th>\n",
              "      <td>0.076923</td>\n",
              "      <td>0.990284</td>\n",
              "      <td>0.994027</td>\n",
              "      <td>0.228307</td>\n",
              "      <td>0.500</td>\n",
              "      <td>0.62500</td>\n",
              "      <td>0.313333</td>\n",
              "      <td>0.631579</td>\n",
              "      <td>0.413793</td>\n",
              "      <td>0.294554</td>\n",
              "      <td>0.166667</td>\n",
              "      <td>0.313333</td>\n",
              "      <td>0.635580</td>\n",
              "      <td>0.580316</td>\n",
              "      <td>0.1</td>\n",
              "      <td>0.298507</td>\n",
              "    </tr>\n",
              "    <tr>\n",
              "      <th>24-04-2016</th>\n",
              "      <td>0.076923</td>\n",
              "      <td>0.990284</td>\n",
              "      <td>0.994027</td>\n",
              "      <td>0.228307</td>\n",
              "      <td>0.500</td>\n",
              "      <td>0.03125</td>\n",
              "      <td>0.220000</td>\n",
              "      <td>0.631579</td>\n",
              "      <td>0.827586</td>\n",
              "      <td>0.603960</td>\n",
              "      <td>0.166667</td>\n",
              "      <td>0.620000</td>\n",
              "      <td>0.634567</td>\n",
              "      <td>0.561094</td>\n",
              "      <td>0.1</td>\n",
              "      <td>0.373134</td>\n",
              "    </tr>\n",
              "  </tbody>\n",
              "</table>\n",
              "</div>"
            ],
            "text/plain": [
              "            vsl_name   dft_fwd   dft_aft     displ  w_force    w_dir  \\\n",
              "Date                                                                   \n",
              "07-12-2015  0.076923  0.240658  0.251706  1.000000    0.625  0.00000   \n",
              "20-11-2016  0.461538  0.993274  0.988908  0.330712    0.625  0.28125   \n",
              "21-11-2016  0.461538  0.984305  0.988908  0.330712    0.375  0.28125   \n",
              "23-04-2016  0.076923  0.990284  0.994027  0.228307    0.500  0.62500   \n",
              "24-04-2016  0.076923  0.990284  0.994027  0.228307    0.500  0.03125   \n",
              "\n",
              "            rel_deg1    sea_st   stm_hrs  dst_last     swell  rel_deg2  \\\n",
              "Date                                                                     \n",
              "07-12-2015  0.662222  0.210526  0.793103  0.777228  0.333333  0.662222   \n",
              "20-11-2016  0.044444  0.263158  0.827586  0.569307  0.333333  0.140000   \n",
              "21-11-2016  0.022222  0.263158  0.827586  0.589109  0.166667  0.177778   \n",
              "23-04-2016  0.313333  0.631579  0.413793  0.294554  0.166667  0.313333   \n",
              "24-04-2016  0.220000  0.631579  0.827586  0.603960  0.166667  0.620000   \n",
              "\n",
              "                 rpm      slip  curfavagt  curknots  \n",
              "Date                                                 \n",
              "07-12-2015  0.839331  0.551855        0.4  0.373134  \n",
              "20-11-2016  0.651799  0.623603        0.2  0.417910  \n",
              "21-11-2016  0.651799  0.601997        0.2  0.402985  \n",
              "23-04-2016  0.635580  0.580316        0.1  0.298507  \n",
              "24-04-2016  0.634567  0.561094        0.1  0.373134  "
            ]
          },
          "metadata": {
            "tags": []
          },
          "execution_count": 19
        }
      ]
    },
    {
      "cell_type": "code",
      "metadata": {
        "colab": {
          "base_uri": "https://localhost:8080/",
          "height": 225
        },
        "id": "EAm2SRDGw98w",
        "outputId": "a586e7fa-b8eb-4a6b-c613-b5ba0d12e9e7"
      },
      "source": [
        "test_df.head()"
      ],
      "execution_count": null,
      "outputs": [
        {
          "output_type": "execute_result",
          "data": {
            "text/html": [
              "<div>\n",
              "<style scoped>\n",
              "    .dataframe tbody tr th:only-of-type {\n",
              "        vertical-align: middle;\n",
              "    }\n",
              "\n",
              "    .dataframe tbody tr th {\n",
              "        vertical-align: top;\n",
              "    }\n",
              "\n",
              "    .dataframe thead th {\n",
              "        text-align: right;\n",
              "    }\n",
              "</style>\n",
              "<table border=\"1\" class=\"dataframe\">\n",
              "  <thead>\n",
              "    <tr style=\"text-align: right;\">\n",
              "      <th></th>\n",
              "      <th>vsl_name</th>\n",
              "      <th>dft_fwd</th>\n",
              "      <th>dft_aft</th>\n",
              "      <th>displ</th>\n",
              "      <th>w_force</th>\n",
              "      <th>w_dir</th>\n",
              "      <th>rel_deg1</th>\n",
              "      <th>sea_st</th>\n",
              "      <th>stm_hrs</th>\n",
              "      <th>dst_last</th>\n",
              "      <th>swell</th>\n",
              "      <th>rel_deg2</th>\n",
              "      <th>rpm</th>\n",
              "      <th>slip</th>\n",
              "      <th>me_ho</th>\n",
              "      <th>curfavagt</th>\n",
              "      <th>curknots</th>\n",
              "    </tr>\n",
              "    <tr>\n",
              "      <th>Date</th>\n",
              "      <th></th>\n",
              "      <th></th>\n",
              "      <th></th>\n",
              "      <th></th>\n",
              "      <th></th>\n",
              "      <th></th>\n",
              "      <th></th>\n",
              "      <th></th>\n",
              "      <th></th>\n",
              "      <th></th>\n",
              "      <th></th>\n",
              "      <th></th>\n",
              "      <th></th>\n",
              "      <th></th>\n",
              "      <th></th>\n",
              "      <th></th>\n",
              "      <th></th>\n",
              "    </tr>\n",
              "  </thead>\n",
              "  <tbody>\n",
              "    <tr>\n",
              "      <th>06-09-2016</th>\n",
              "      <td>9</td>\n",
              "      <td>5.3</td>\n",
              "      <td>7.3</td>\n",
              "      <td>35447</td>\n",
              "      <td>5</td>\n",
              "      <td>28</td>\n",
              "      <td>135</td>\n",
              "      <td>5</td>\n",
              "      <td>23</td>\n",
              "      <td>244</td>\n",
              "      <td>1</td>\n",
              "      <td>105</td>\n",
              "      <td>66.10</td>\n",
              "      <td>-0.30</td>\n",
              "      <td>11.1</td>\n",
              "      <td>2</td>\n",
              "      <td>0.5</td>\n",
              "    </tr>\n",
              "    <tr>\n",
              "      <th>07-09-2016</th>\n",
              "      <td>9</td>\n",
              "      <td>5.3</td>\n",
              "      <td>7.3</td>\n",
              "      <td>35447</td>\n",
              "      <td>3</td>\n",
              "      <td>15</td>\n",
              "      <td>150</td>\n",
              "      <td>12</td>\n",
              "      <td>23</td>\n",
              "      <td>213</td>\n",
              "      <td>1</td>\n",
              "      <td>145</td>\n",
              "      <td>57.60</td>\n",
              "      <td>-0.50</td>\n",
              "      <td>7.4</td>\n",
              "      <td>2</td>\n",
              "      <td>0.5</td>\n",
              "    </tr>\n",
              "    <tr>\n",
              "      <th>08-09-2016</th>\n",
              "      <td>9</td>\n",
              "      <td>5.3</td>\n",
              "      <td>7.3</td>\n",
              "      <td>35447</td>\n",
              "      <td>4</td>\n",
              "      <td>15</td>\n",
              "      <td>150</td>\n",
              "      <td>12</td>\n",
              "      <td>24</td>\n",
              "      <td>239</td>\n",
              "      <td>1</td>\n",
              "      <td>145</td>\n",
              "      <td>63.46</td>\n",
              "      <td>1.85</td>\n",
              "      <td>9.9</td>\n",
              "      <td>2</td>\n",
              "      <td>0.5</td>\n",
              "    </tr>\n",
              "    <tr>\n",
              "      <th>09-09-2016</th>\n",
              "      <td>9</td>\n",
              "      <td>5.3</td>\n",
              "      <td>7.3</td>\n",
              "      <td>35447</td>\n",
              "      <td>4</td>\n",
              "      <td>15</td>\n",
              "      <td>125</td>\n",
              "      <td>12</td>\n",
              "      <td>24</td>\n",
              "      <td>254</td>\n",
              "      <td>1</td>\n",
              "      <td>130</td>\n",
              "      <td>62.70</td>\n",
              "      <td>-5.50</td>\n",
              "      <td>9.7</td>\n",
              "      <td>2</td>\n",
              "      <td>0.5</td>\n",
              "    </tr>\n",
              "    <tr>\n",
              "      <th>10-09-2016</th>\n",
              "      <td>9</td>\n",
              "      <td>5.3</td>\n",
              "      <td>7.3</td>\n",
              "      <td>35447</td>\n",
              "      <td>3</td>\n",
              "      <td>9</td>\n",
              "      <td>305</td>\n",
              "      <td>12</td>\n",
              "      <td>24</td>\n",
              "      <td>265</td>\n",
              "      <td>1</td>\n",
              "      <td>300</td>\n",
              "      <td>61.70</td>\n",
              "      <td>-11.90</td>\n",
              "      <td>9.2</td>\n",
              "      <td>1</td>\n",
              "      <td>1.0</td>\n",
              "    </tr>\n",
              "  </tbody>\n",
              "</table>\n",
              "</div>"
            ],
            "text/plain": [
              "            vsl_name  dft_fwd  dft_aft  displ  w_force  w_dir  rel_deg1  \\\n",
              "Date                                                                      \n",
              "06-09-2016         9      5.3      7.3  35447        5     28       135   \n",
              "07-09-2016         9      5.3      7.3  35447        3     15       150   \n",
              "08-09-2016         9      5.3      7.3  35447        4     15       150   \n",
              "09-09-2016         9      5.3      7.3  35447        4     15       125   \n",
              "10-09-2016         9      5.3      7.3  35447        3      9       305   \n",
              "\n",
              "            sea_st  stm_hrs  dst_last  swell  rel_deg2    rpm   slip  me_ho  \\\n",
              "Date                                                                          \n",
              "06-09-2016       5       23       244      1       105  66.10  -0.30   11.1   \n",
              "07-09-2016      12       23       213      1       145  57.60  -0.50    7.4   \n",
              "08-09-2016      12       24       239      1       145  63.46   1.85    9.9   \n",
              "09-09-2016      12       24       254      1       130  62.70  -5.50    9.7   \n",
              "10-09-2016      12       24       265      1       300  61.70 -11.90    9.2   \n",
              "\n",
              "            curfavagt  curknots  \n",
              "Date                             \n",
              "06-09-2016          2       0.5  \n",
              "07-09-2016          2       0.5  \n",
              "08-09-2016          2       0.5  \n",
              "09-09-2016          2       0.5  \n",
              "10-09-2016          1       1.0  "
            ]
          },
          "metadata": {
            "tags": []
          },
          "execution_count": 20
        }
      ]
    },
    {
      "cell_type": "code",
      "metadata": {
        "colab": {
          "base_uri": "https://localhost:8080/",
          "height": 225
        },
        "id": "Iualj1s_xRBA",
        "outputId": "80405e07-0d46-420e-a940-a509a7592519"
      },
      "source": [
        "final_test_df = test_df.drop('me_ho',1)\n",
        "final_test_df.head()"
      ],
      "execution_count": null,
      "outputs": [
        {
          "output_type": "execute_result",
          "data": {
            "text/html": [
              "<div>\n",
              "<style scoped>\n",
              "    .dataframe tbody tr th:only-of-type {\n",
              "        vertical-align: middle;\n",
              "    }\n",
              "\n",
              "    .dataframe tbody tr th {\n",
              "        vertical-align: top;\n",
              "    }\n",
              "\n",
              "    .dataframe thead th {\n",
              "        text-align: right;\n",
              "    }\n",
              "</style>\n",
              "<table border=\"1\" class=\"dataframe\">\n",
              "  <thead>\n",
              "    <tr style=\"text-align: right;\">\n",
              "      <th></th>\n",
              "      <th>vsl_name</th>\n",
              "      <th>dft_fwd</th>\n",
              "      <th>dft_aft</th>\n",
              "      <th>displ</th>\n",
              "      <th>w_force</th>\n",
              "      <th>w_dir</th>\n",
              "      <th>rel_deg1</th>\n",
              "      <th>sea_st</th>\n",
              "      <th>stm_hrs</th>\n",
              "      <th>dst_last</th>\n",
              "      <th>swell</th>\n",
              "      <th>rel_deg2</th>\n",
              "      <th>rpm</th>\n",
              "      <th>slip</th>\n",
              "      <th>curfavagt</th>\n",
              "      <th>curknots</th>\n",
              "    </tr>\n",
              "    <tr>\n",
              "      <th>Date</th>\n",
              "      <th></th>\n",
              "      <th></th>\n",
              "      <th></th>\n",
              "      <th></th>\n",
              "      <th></th>\n",
              "      <th></th>\n",
              "      <th></th>\n",
              "      <th></th>\n",
              "      <th></th>\n",
              "      <th></th>\n",
              "      <th></th>\n",
              "      <th></th>\n",
              "      <th></th>\n",
              "      <th></th>\n",
              "      <th></th>\n",
              "      <th></th>\n",
              "    </tr>\n",
              "  </thead>\n",
              "  <tbody>\n",
              "    <tr>\n",
              "      <th>06-09-2016</th>\n",
              "      <td>9</td>\n",
              "      <td>5.3</td>\n",
              "      <td>7.3</td>\n",
              "      <td>35447</td>\n",
              "      <td>5</td>\n",
              "      <td>28</td>\n",
              "      <td>135</td>\n",
              "      <td>5</td>\n",
              "      <td>23</td>\n",
              "      <td>244</td>\n",
              "      <td>1</td>\n",
              "      <td>105</td>\n",
              "      <td>66.10</td>\n",
              "      <td>-0.30</td>\n",
              "      <td>2</td>\n",
              "      <td>0.5</td>\n",
              "    </tr>\n",
              "    <tr>\n",
              "      <th>07-09-2016</th>\n",
              "      <td>9</td>\n",
              "      <td>5.3</td>\n",
              "      <td>7.3</td>\n",
              "      <td>35447</td>\n",
              "      <td>3</td>\n",
              "      <td>15</td>\n",
              "      <td>150</td>\n",
              "      <td>12</td>\n",
              "      <td>23</td>\n",
              "      <td>213</td>\n",
              "      <td>1</td>\n",
              "      <td>145</td>\n",
              "      <td>57.60</td>\n",
              "      <td>-0.50</td>\n",
              "      <td>2</td>\n",
              "      <td>0.5</td>\n",
              "    </tr>\n",
              "    <tr>\n",
              "      <th>08-09-2016</th>\n",
              "      <td>9</td>\n",
              "      <td>5.3</td>\n",
              "      <td>7.3</td>\n",
              "      <td>35447</td>\n",
              "      <td>4</td>\n",
              "      <td>15</td>\n",
              "      <td>150</td>\n",
              "      <td>12</td>\n",
              "      <td>24</td>\n",
              "      <td>239</td>\n",
              "      <td>1</td>\n",
              "      <td>145</td>\n",
              "      <td>63.46</td>\n",
              "      <td>1.85</td>\n",
              "      <td>2</td>\n",
              "      <td>0.5</td>\n",
              "    </tr>\n",
              "    <tr>\n",
              "      <th>09-09-2016</th>\n",
              "      <td>9</td>\n",
              "      <td>5.3</td>\n",
              "      <td>7.3</td>\n",
              "      <td>35447</td>\n",
              "      <td>4</td>\n",
              "      <td>15</td>\n",
              "      <td>125</td>\n",
              "      <td>12</td>\n",
              "      <td>24</td>\n",
              "      <td>254</td>\n",
              "      <td>1</td>\n",
              "      <td>130</td>\n",
              "      <td>62.70</td>\n",
              "      <td>-5.50</td>\n",
              "      <td>2</td>\n",
              "      <td>0.5</td>\n",
              "    </tr>\n",
              "    <tr>\n",
              "      <th>10-09-2016</th>\n",
              "      <td>9</td>\n",
              "      <td>5.3</td>\n",
              "      <td>7.3</td>\n",
              "      <td>35447</td>\n",
              "      <td>3</td>\n",
              "      <td>9</td>\n",
              "      <td>305</td>\n",
              "      <td>12</td>\n",
              "      <td>24</td>\n",
              "      <td>265</td>\n",
              "      <td>1</td>\n",
              "      <td>300</td>\n",
              "      <td>61.70</td>\n",
              "      <td>-11.90</td>\n",
              "      <td>1</td>\n",
              "      <td>1.0</td>\n",
              "    </tr>\n",
              "  </tbody>\n",
              "</table>\n",
              "</div>"
            ],
            "text/plain": [
              "            vsl_name  dft_fwd  dft_aft  displ  w_force  w_dir  rel_deg1  \\\n",
              "Date                                                                      \n",
              "06-09-2016         9      5.3      7.3  35447        5     28       135   \n",
              "07-09-2016         9      5.3      7.3  35447        3     15       150   \n",
              "08-09-2016         9      5.3      7.3  35447        4     15       150   \n",
              "09-09-2016         9      5.3      7.3  35447        4     15       125   \n",
              "10-09-2016         9      5.3      7.3  35447        3      9       305   \n",
              "\n",
              "            sea_st  stm_hrs  dst_last  swell  rel_deg2    rpm   slip  \\\n",
              "Date                                                                   \n",
              "06-09-2016       5       23       244      1       105  66.10  -0.30   \n",
              "07-09-2016      12       23       213      1       145  57.60  -0.50   \n",
              "08-09-2016      12       24       239      1       145  63.46   1.85   \n",
              "09-09-2016      12       24       254      1       130  62.70  -5.50   \n",
              "10-09-2016      12       24       265      1       300  61.70 -11.90   \n",
              "\n",
              "            curfavagt  curknots  \n",
              "Date                             \n",
              "06-09-2016          2       0.5  \n",
              "07-09-2016          2       0.5  \n",
              "08-09-2016          2       0.5  \n",
              "09-09-2016          2       0.5  \n",
              "10-09-2016          1       1.0  "
            ]
          },
          "metadata": {
            "tags": []
          },
          "execution_count": 21
        }
      ]
    },
    {
      "cell_type": "code",
      "metadata": {
        "id": "ClbMetzKvOVB"
      },
      "source": [
        "final_test_df[['vsl_name','dft_fwd','dft_aft','displ','w_force','w_dir',\n",
        "       'rel_deg1', 'sea_st', 'stm_hrs', 'dst_last', 'swell', 'rel_deg2', 'rpm',\n",
        "       'slip', 'curfavagt', 'curknots']] = MinMax.transform(final_test_df[['vsl_name', 'dft_fwd', 'dft_aft', 'displ', 'w_force', 'w_dir',\n",
        "       'rel_deg1', 'sea_st', 'stm_hrs', 'dst_last', 'swell', 'rel_deg2', 'rpm',\n",
        "       'slip', 'curfavagt', 'curknots']])"
      ],
      "execution_count": null,
      "outputs": []
    },
    {
      "cell_type": "code",
      "metadata": {
        "colab": {
          "base_uri": "https://localhost:8080/",
          "height": 225
        },
        "id": "7qFDgferx52m",
        "outputId": "6143e442-f4be-4570-e09f-a8016103c499"
      },
      "source": [
        "final_test_df.head()"
      ],
      "execution_count": null,
      "outputs": [
        {
          "output_type": "execute_result",
          "data": {
            "text/html": [
              "<div>\n",
              "<style scoped>\n",
              "    .dataframe tbody tr th:only-of-type {\n",
              "        vertical-align: middle;\n",
              "    }\n",
              "\n",
              "    .dataframe tbody tr th {\n",
              "        vertical-align: top;\n",
              "    }\n",
              "\n",
              "    .dataframe thead th {\n",
              "        text-align: right;\n",
              "    }\n",
              "</style>\n",
              "<table border=\"1\" class=\"dataframe\">\n",
              "  <thead>\n",
              "    <tr style=\"text-align: right;\">\n",
              "      <th></th>\n",
              "      <th>vsl_name</th>\n",
              "      <th>dft_fwd</th>\n",
              "      <th>dft_aft</th>\n",
              "      <th>displ</th>\n",
              "      <th>w_force</th>\n",
              "      <th>w_dir</th>\n",
              "      <th>rel_deg1</th>\n",
              "      <th>sea_st</th>\n",
              "      <th>stm_hrs</th>\n",
              "      <th>dst_last</th>\n",
              "      <th>swell</th>\n",
              "      <th>rel_deg2</th>\n",
              "      <th>rpm</th>\n",
              "      <th>slip</th>\n",
              "      <th>curfavagt</th>\n",
              "      <th>curknots</th>\n",
              "    </tr>\n",
              "    <tr>\n",
              "      <th>Date</th>\n",
              "      <th></th>\n",
              "      <th></th>\n",
              "      <th></th>\n",
              "      <th></th>\n",
              "      <th></th>\n",
              "      <th></th>\n",
              "      <th></th>\n",
              "      <th></th>\n",
              "      <th></th>\n",
              "      <th></th>\n",
              "      <th></th>\n",
              "      <th></th>\n",
              "      <th></th>\n",
              "      <th></th>\n",
              "      <th></th>\n",
              "      <th></th>\n",
              "    </tr>\n",
              "  </thead>\n",
              "  <tbody>\n",
              "    <tr>\n",
              "      <th>06-09-2016</th>\n",
              "      <td>0.692308</td>\n",
              "      <td>0.014948</td>\n",
              "      <td>0.042662</td>\n",
              "      <td>-0.000103</td>\n",
              "      <td>0.625</td>\n",
              "      <td>0.87500</td>\n",
              "      <td>0.300000</td>\n",
              "      <td>0.263158</td>\n",
              "      <td>0.793103</td>\n",
              "      <td>0.603960</td>\n",
              "      <td>0.166667</td>\n",
              "      <td>0.233333</td>\n",
              "      <td>0.670046</td>\n",
              "      <td>0.494710</td>\n",
              "      <td>0.2</td>\n",
              "      <td>0.373134</td>\n",
              "    </tr>\n",
              "    <tr>\n",
              "      <th>07-09-2016</th>\n",
              "      <td>0.692308</td>\n",
              "      <td>0.014948</td>\n",
              "      <td>0.042662</td>\n",
              "      <td>-0.000103</td>\n",
              "      <td>0.375</td>\n",
              "      <td>0.46875</td>\n",
              "      <td>0.333333</td>\n",
              "      <td>0.631579</td>\n",
              "      <td>0.793103</td>\n",
              "      <td>0.527228</td>\n",
              "      <td>0.166667</td>\n",
              "      <td>0.322222</td>\n",
              "      <td>0.583882</td>\n",
              "      <td>0.493220</td>\n",
              "      <td>0.2</td>\n",
              "      <td>0.373134</td>\n",
              "    </tr>\n",
              "    <tr>\n",
              "      <th>08-09-2016</th>\n",
              "      <td>0.692308</td>\n",
              "      <td>0.014948</td>\n",
              "      <td>0.042662</td>\n",
              "      <td>-0.000103</td>\n",
              "      <td>0.500</td>\n",
              "      <td>0.46875</td>\n",
              "      <td>0.333333</td>\n",
              "      <td>0.631579</td>\n",
              "      <td>0.827586</td>\n",
              "      <td>0.591584</td>\n",
              "      <td>0.166667</td>\n",
              "      <td>0.322222</td>\n",
              "      <td>0.643284</td>\n",
              "      <td>0.510729</td>\n",
              "      <td>0.2</td>\n",
              "      <td>0.373134</td>\n",
              "    </tr>\n",
              "    <tr>\n",
              "      <th>09-09-2016</th>\n",
              "      <td>0.692308</td>\n",
              "      <td>0.014948</td>\n",
              "      <td>0.042662</td>\n",
              "      <td>-0.000103</td>\n",
              "      <td>0.500</td>\n",
              "      <td>0.46875</td>\n",
              "      <td>0.277778</td>\n",
              "      <td>0.631579</td>\n",
              "      <td>0.827586</td>\n",
              "      <td>0.628713</td>\n",
              "      <td>0.166667</td>\n",
              "      <td>0.288889</td>\n",
              "      <td>0.635580</td>\n",
              "      <td>0.455968</td>\n",
              "      <td>0.2</td>\n",
              "      <td>0.373134</td>\n",
              "    </tr>\n",
              "    <tr>\n",
              "      <th>10-09-2016</th>\n",
              "      <td>0.692308</td>\n",
              "      <td>0.014948</td>\n",
              "      <td>0.042662</td>\n",
              "      <td>-0.000103</td>\n",
              "      <td>0.375</td>\n",
              "      <td>0.28125</td>\n",
              "      <td>0.677778</td>\n",
              "      <td>0.631579</td>\n",
              "      <td>0.827586</td>\n",
              "      <td>0.655941</td>\n",
              "      <td>0.166667</td>\n",
              "      <td>0.666667</td>\n",
              "      <td>0.625443</td>\n",
              "      <td>0.408285</td>\n",
              "      <td>0.1</td>\n",
              "      <td>0.447761</td>\n",
              "    </tr>\n",
              "  </tbody>\n",
              "</table>\n",
              "</div>"
            ],
            "text/plain": [
              "            vsl_name   dft_fwd   dft_aft     displ  w_force    w_dir  \\\n",
              "Date                                                                   \n",
              "06-09-2016  0.692308  0.014948  0.042662 -0.000103    0.625  0.87500   \n",
              "07-09-2016  0.692308  0.014948  0.042662 -0.000103    0.375  0.46875   \n",
              "08-09-2016  0.692308  0.014948  0.042662 -0.000103    0.500  0.46875   \n",
              "09-09-2016  0.692308  0.014948  0.042662 -0.000103    0.500  0.46875   \n",
              "10-09-2016  0.692308  0.014948  0.042662 -0.000103    0.375  0.28125   \n",
              "\n",
              "            rel_deg1    sea_st   stm_hrs  dst_last     swell  rel_deg2  \\\n",
              "Date                                                                     \n",
              "06-09-2016  0.300000  0.263158  0.793103  0.603960  0.166667  0.233333   \n",
              "07-09-2016  0.333333  0.631579  0.793103  0.527228  0.166667  0.322222   \n",
              "08-09-2016  0.333333  0.631579  0.827586  0.591584  0.166667  0.322222   \n",
              "09-09-2016  0.277778  0.631579  0.827586  0.628713  0.166667  0.288889   \n",
              "10-09-2016  0.677778  0.631579  0.827586  0.655941  0.166667  0.666667   \n",
              "\n",
              "                 rpm      slip  curfavagt  curknots  \n",
              "Date                                                 \n",
              "06-09-2016  0.670046  0.494710        0.2  0.373134  \n",
              "07-09-2016  0.583882  0.493220        0.2  0.373134  \n",
              "08-09-2016  0.643284  0.510729        0.2  0.373134  \n",
              "09-09-2016  0.635580  0.455968        0.2  0.373134  \n",
              "10-09-2016  0.625443  0.408285        0.1  0.447761  "
            ]
          },
          "metadata": {
            "tags": []
          },
          "execution_count": 23
        }
      ]
    },
    {
      "cell_type": "code",
      "metadata": {
        "colab": {
          "base_uri": "https://localhost:8080/",
          "height": 521
        },
        "id": "WFp4QFiNpKW9",
        "outputId": "db134db0-4882-4fc7-f834-9a93203df038"
      },
      "source": [
        "from sklearn.feature_selection import SelectKBest\n",
        "from sklearn.feature_selection import chi2,f_regression\n",
        "# split the data into dpendent & independent faetures\n",
        "#apply SelectKBest class to extract top 10 best features\n",
        "bestfeatures = SelectKBest(score_func=f_regression, k='all')\n",
        "fit = bestfeatures.fit(feature_train_df,target_train_df)\n",
        "dfscores = pd.DataFrame(fit.scores_)\n",
        "dfcolumns = pd.DataFrame(feature_train_df.columns)\n",
        "#concat two dataframes for better visualization \n",
        "featureScores = pd.concat([dfcolumns,dfscores],axis=1)\n",
        "featureScores.columns = ['Feature','Score']  #naming the dataframe columns\n",
        "sorted_featureScores = featureScores.sort_values([\"Score\"], ascending=False)\n",
        "sorted_featureScores  #print  best features"
      ],
      "execution_count": null,
      "outputs": [
        {
          "output_type": "execute_result",
          "data": {
            "text/html": [
              "<div>\n",
              "<style scoped>\n",
              "    .dataframe tbody tr th:only-of-type {\n",
              "        vertical-align: middle;\n",
              "    }\n",
              "\n",
              "    .dataframe tbody tr th {\n",
              "        vertical-align: top;\n",
              "    }\n",
              "\n",
              "    .dataframe thead th {\n",
              "        text-align: right;\n",
              "    }\n",
              "</style>\n",
              "<table border=\"1\" class=\"dataframe\">\n",
              "  <thead>\n",
              "    <tr style=\"text-align: right;\">\n",
              "      <th></th>\n",
              "      <th>Feature</th>\n",
              "      <th>Score</th>\n",
              "    </tr>\n",
              "  </thead>\n",
              "  <tbody>\n",
              "    <tr>\n",
              "      <th>9</th>\n",
              "      <td>dst_last</td>\n",
              "      <td>1803.266207</td>\n",
              "    </tr>\n",
              "    <tr>\n",
              "      <th>8</th>\n",
              "      <td>stm_hrs</td>\n",
              "      <td>1184.370000</td>\n",
              "    </tr>\n",
              "    <tr>\n",
              "      <th>12</th>\n",
              "      <td>rpm</td>\n",
              "      <td>149.229546</td>\n",
              "    </tr>\n",
              "    <tr>\n",
              "      <th>3</th>\n",
              "      <td>displ</td>\n",
              "      <td>80.482448</td>\n",
              "    </tr>\n",
              "    <tr>\n",
              "      <th>0</th>\n",
              "      <td>vsl_name</td>\n",
              "      <td>33.279054</td>\n",
              "    </tr>\n",
              "    <tr>\n",
              "      <th>13</th>\n",
              "      <td>slip</td>\n",
              "      <td>20.104493</td>\n",
              "    </tr>\n",
              "    <tr>\n",
              "      <th>10</th>\n",
              "      <td>swell</td>\n",
              "      <td>16.811485</td>\n",
              "    </tr>\n",
              "    <tr>\n",
              "      <th>2</th>\n",
              "      <td>dft_aft</td>\n",
              "      <td>14.991763</td>\n",
              "    </tr>\n",
              "    <tr>\n",
              "      <th>4</th>\n",
              "      <td>w_force</td>\n",
              "      <td>8.728810</td>\n",
              "    </tr>\n",
              "    <tr>\n",
              "      <th>7</th>\n",
              "      <td>sea_st</td>\n",
              "      <td>8.489263</td>\n",
              "    </tr>\n",
              "    <tr>\n",
              "      <th>1</th>\n",
              "      <td>dft_fwd</td>\n",
              "      <td>7.162076</td>\n",
              "    </tr>\n",
              "    <tr>\n",
              "      <th>15</th>\n",
              "      <td>curknots</td>\n",
              "      <td>4.581129</td>\n",
              "    </tr>\n",
              "    <tr>\n",
              "      <th>14</th>\n",
              "      <td>curfavagt</td>\n",
              "      <td>3.720411</td>\n",
              "    </tr>\n",
              "    <tr>\n",
              "      <th>6</th>\n",
              "      <td>rel_deg1</td>\n",
              "      <td>3.509000</td>\n",
              "    </tr>\n",
              "    <tr>\n",
              "      <th>5</th>\n",
              "      <td>w_dir</td>\n",
              "      <td>2.584118</td>\n",
              "    </tr>\n",
              "    <tr>\n",
              "      <th>11</th>\n",
              "      <td>rel_deg2</td>\n",
              "      <td>0.495248</td>\n",
              "    </tr>\n",
              "  </tbody>\n",
              "</table>\n",
              "</div>"
            ],
            "text/plain": [
              "      Feature        Score\n",
              "9    dst_last  1803.266207\n",
              "8     stm_hrs  1184.370000\n",
              "12        rpm   149.229546\n",
              "3       displ    80.482448\n",
              "0    vsl_name    33.279054\n",
              "13       slip    20.104493\n",
              "10      swell    16.811485\n",
              "2     dft_aft    14.991763\n",
              "4     w_force     8.728810\n",
              "7      sea_st     8.489263\n",
              "1     dft_fwd     7.162076\n",
              "15   curknots     4.581129\n",
              "14  curfavagt     3.720411\n",
              "6    rel_deg1     3.509000\n",
              "5       w_dir     2.584118\n",
              "11   rel_deg2     0.495248"
            ]
          },
          "metadata": {
            "tags": []
          },
          "execution_count": 24
        }
      ]
    },
    {
      "cell_type": "code",
      "metadata": {
        "id": "hsM8xcDss25T",
        "colab": {
          "base_uri": "https://localhost:8080/"
        },
        "outputId": "0625674a-d346-4393-e2eb-33cf83f7a4f9"
      },
      "source": [
        "from sklearn.model_selection import GridSearchCV\n",
        "from sklearn.ensemble import RandomForestRegressor\n",
        "from sklearn.metrics import mean_squared_error, mean_absolute_error, r2_score\n",
        "\n",
        "param_grid = {'max_depth': [1,2,3],'max_features': ['auto','sqrt','log2'],'min_samples_leaf': [1,2,3,4],'n_estimators': [50,100]}\n",
        "rndmFrst = RandomForestRegressor()\n",
        "grid_search = GridSearchCV(rndmFrst,param_grid =param_grid,cv=6,scoring='neg_mean_squared_error')\n",
        "grid_search.fit(feature_train_df,target_train_df)\n",
        "print(\"Optimal parameter values : \",grid_search.best_params_)\n",
        "print(\"*************************************************************************\")\n",
        "print('Evaluating the model on unseen test data')\n",
        "\n",
        "\n",
        "pred = grid_search.predict(final_test_df)\n",
        "rmse= np.sqrt(mean_squared_error(pred,test_df['me_ho']))\n",
        "print(\"Random Forest after GridSearch RMSE : \",rmse)\n"
      ],
      "execution_count": null,
      "outputs": [
        {
          "output_type": "stream",
          "text": [
            "Optimal parameter values :  {'max_depth': 3, 'max_features': 'auto', 'min_samples_leaf': 2, 'n_estimators': 100}\n",
            "*************************************************************************\n",
            "Evaluating the model on unseen test data\n",
            "Random Forest after GridSearch RMSE :  6.9870365683674915\n"
          ],
          "name": "stdout"
        }
      ]
    },
    {
      "cell_type": "code",
      "metadata": {
        "id": "3N3ELapfs2xO",
        "colab": {
          "base_uri": "https://localhost:8080/",
          "height": 225
        },
        "outputId": "2c16df80-56f2-4431-88f9-cadf298d1b9d"
      },
      "source": [
        "pred_df = pd.DataFrame(pred.round(1),columns=['RandomForest'],index=test_df.index)\n",
        "pred_df.head()"
      ],
      "execution_count": null,
      "outputs": [
        {
          "output_type": "execute_result",
          "data": {
            "text/html": [
              "<div>\n",
              "<style scoped>\n",
              "    .dataframe tbody tr th:only-of-type {\n",
              "        vertical-align: middle;\n",
              "    }\n",
              "\n",
              "    .dataframe tbody tr th {\n",
              "        vertical-align: top;\n",
              "    }\n",
              "\n",
              "    .dataframe thead th {\n",
              "        text-align: right;\n",
              "    }\n",
              "</style>\n",
              "<table border=\"1\" class=\"dataframe\">\n",
              "  <thead>\n",
              "    <tr style=\"text-align: right;\">\n",
              "      <th></th>\n",
              "      <th>RandomForest</th>\n",
              "    </tr>\n",
              "    <tr>\n",
              "      <th>Date</th>\n",
              "      <th></th>\n",
              "    </tr>\n",
              "  </thead>\n",
              "  <tbody>\n",
              "    <tr>\n",
              "      <th>06-09-2016</th>\n",
              "      <td>23.7</td>\n",
              "    </tr>\n",
              "    <tr>\n",
              "      <th>07-09-2016</th>\n",
              "      <td>23.7</td>\n",
              "    </tr>\n",
              "    <tr>\n",
              "      <th>08-09-2016</th>\n",
              "      <td>23.7</td>\n",
              "    </tr>\n",
              "    <tr>\n",
              "      <th>09-09-2016</th>\n",
              "      <td>23.7</td>\n",
              "    </tr>\n",
              "    <tr>\n",
              "      <th>10-09-2016</th>\n",
              "      <td>23.7</td>\n",
              "    </tr>\n",
              "  </tbody>\n",
              "</table>\n",
              "</div>"
            ],
            "text/plain": [
              "            RandomForest\n",
              "Date                    \n",
              "06-09-2016          23.7\n",
              "07-09-2016          23.7\n",
              "08-09-2016          23.7\n",
              "09-09-2016          23.7\n",
              "10-09-2016          23.7"
            ]
          },
          "metadata": {
            "tags": []
          },
          "execution_count": 26
        }
      ]
    },
    {
      "cell_type": "code",
      "metadata": {
        "colab": {
          "base_uri": "https://localhost:8080/",
          "height": 225
        },
        "id": "TWdzGfkZ8op6",
        "outputId": "f83bb146-c55a-44b5-d849-e2dcd78141dc"
      },
      "source": [
        "RF_pred_act_df = pd.concat([pred_df,test_df['me_ho']],1)\n",
        "RF_pred_act_df.head()"
      ],
      "execution_count": null,
      "outputs": [
        {
          "output_type": "execute_result",
          "data": {
            "text/html": [
              "<div>\n",
              "<style scoped>\n",
              "    .dataframe tbody tr th:only-of-type {\n",
              "        vertical-align: middle;\n",
              "    }\n",
              "\n",
              "    .dataframe tbody tr th {\n",
              "        vertical-align: top;\n",
              "    }\n",
              "\n",
              "    .dataframe thead th {\n",
              "        text-align: right;\n",
              "    }\n",
              "</style>\n",
              "<table border=\"1\" class=\"dataframe\">\n",
              "  <thead>\n",
              "    <tr style=\"text-align: right;\">\n",
              "      <th></th>\n",
              "      <th>RandomForest</th>\n",
              "      <th>me_ho</th>\n",
              "    </tr>\n",
              "    <tr>\n",
              "      <th>Date</th>\n",
              "      <th></th>\n",
              "      <th></th>\n",
              "    </tr>\n",
              "  </thead>\n",
              "  <tbody>\n",
              "    <tr>\n",
              "      <th>06-09-2016</th>\n",
              "      <td>23.7</td>\n",
              "      <td>11.1</td>\n",
              "    </tr>\n",
              "    <tr>\n",
              "      <th>07-09-2016</th>\n",
              "      <td>23.7</td>\n",
              "      <td>7.4</td>\n",
              "    </tr>\n",
              "    <tr>\n",
              "      <th>08-09-2016</th>\n",
              "      <td>23.7</td>\n",
              "      <td>9.9</td>\n",
              "    </tr>\n",
              "    <tr>\n",
              "      <th>09-09-2016</th>\n",
              "      <td>23.7</td>\n",
              "      <td>9.7</td>\n",
              "    </tr>\n",
              "    <tr>\n",
              "      <th>10-09-2016</th>\n",
              "      <td>23.7</td>\n",
              "      <td>9.2</td>\n",
              "    </tr>\n",
              "  </tbody>\n",
              "</table>\n",
              "</div>"
            ],
            "text/plain": [
              "            RandomForest  me_ho\n",
              "Date                           \n",
              "06-09-2016          23.7   11.1\n",
              "07-09-2016          23.7    7.4\n",
              "08-09-2016          23.7    9.9\n",
              "09-09-2016          23.7    9.7\n",
              "10-09-2016          23.7    9.2"
            ]
          },
          "metadata": {
            "tags": []
          },
          "execution_count": 27
        }
      ]
    },
    {
      "cell_type": "code",
      "metadata": {
        "colab": {
          "base_uri": "https://localhost:8080/",
          "height": 387
        },
        "id": "aXgNiZ6jqXES",
        "outputId": "194681eb-ca62-44a2-eca1-d40e06481a4c"
      },
      "source": [
        "from sklearn.model_selection import KFold\n",
        "Lin_Reg = LinearRegression()\n",
        "\n",
        "RMSE_scores = []\n",
        "kf = KFold(n_splits=2)\n",
        "kf.get_n_splits(feature_train_df)\n",
        "for train_index, test_index in kf.split(feature_train_df):\n",
        "  X_train, X_test = feature_train_df[train_index], feature_train_df[test_index]\n",
        "  y_train, y_test = target_train_df[train_index], target_train_df[test_index]\n",
        "  Lin_Reg.fit(X_train, y_train)\n",
        "  y_pred = Lin_Reg.predict(X_test)\n",
        "  rmse_score = np.sqrt(mean_squared_error(y_test, y_pred))\n",
        "  RMSE_scores.append(rmse_score)\n",
        "  \n",
        "print('List of RMSE score at each iteration: ',RMSE_scores)\n",
        "print('**************************************************************************************')\n",
        "print(\"Mean RMSE score of all iteration of CV: \", np.array(RMSE_scores).mean())"
      ],
      "execution_count": null,
      "outputs": [
        {
          "output_type": "error",
          "ename": "KeyError",
          "evalue": "ignored",
          "traceback": [
            "\u001b[0;31m---------------------------------------------------------------------------\u001b[0m",
            "\u001b[0;31mKeyError\u001b[0m                                  Traceback (most recent call last)",
            "\u001b[0;32m<ipython-input-33-5011021152c4>\u001b[0m in \u001b[0;36m<module>\u001b[0;34m()\u001b[0m\n\u001b[1;32m      6\u001b[0m \u001b[0mkf\u001b[0m\u001b[0;34m.\u001b[0m\u001b[0mget_n_splits\u001b[0m\u001b[0;34m(\u001b[0m\u001b[0mfeature_train_df\u001b[0m\u001b[0;34m)\u001b[0m\u001b[0;34m\u001b[0m\u001b[0;34m\u001b[0m\u001b[0m\n\u001b[1;32m      7\u001b[0m \u001b[0;32mfor\u001b[0m \u001b[0mtrain_index\u001b[0m\u001b[0;34m,\u001b[0m \u001b[0mtest_index\u001b[0m \u001b[0;32min\u001b[0m \u001b[0mkf\u001b[0m\u001b[0;34m.\u001b[0m\u001b[0msplit\u001b[0m\u001b[0;34m(\u001b[0m\u001b[0mfeature_train_df\u001b[0m\u001b[0;34m)\u001b[0m\u001b[0;34m:\u001b[0m\u001b[0;34m\u001b[0m\u001b[0;34m\u001b[0m\u001b[0m\n\u001b[0;32m----> 8\u001b[0;31m   \u001b[0mX_train\u001b[0m\u001b[0;34m,\u001b[0m \u001b[0mX_test\u001b[0m \u001b[0;34m=\u001b[0m \u001b[0mfeature_train_df\u001b[0m\u001b[0;34m[\u001b[0m\u001b[0mtrain_index\u001b[0m\u001b[0;34m]\u001b[0m\u001b[0;34m,\u001b[0m \u001b[0mfeature_train_df\u001b[0m\u001b[0;34m[\u001b[0m\u001b[0mtest_index\u001b[0m\u001b[0;34m]\u001b[0m\u001b[0;34m\u001b[0m\u001b[0;34m\u001b[0m\u001b[0m\n\u001b[0m\u001b[1;32m      9\u001b[0m   \u001b[0my_train\u001b[0m\u001b[0;34m,\u001b[0m \u001b[0my_test\u001b[0m \u001b[0;34m=\u001b[0m \u001b[0mtarget_train_df\u001b[0m\u001b[0;34m[\u001b[0m\u001b[0mtrain_index\u001b[0m\u001b[0;34m]\u001b[0m\u001b[0;34m,\u001b[0m \u001b[0mtarget_train_df\u001b[0m\u001b[0;34m[\u001b[0m\u001b[0mtest_index\u001b[0m\u001b[0;34m]\u001b[0m\u001b[0;34m\u001b[0m\u001b[0;34m\u001b[0m\u001b[0m\n\u001b[1;32m     10\u001b[0m   \u001b[0mLin_Reg\u001b[0m\u001b[0;34m.\u001b[0m\u001b[0mfit\u001b[0m\u001b[0;34m(\u001b[0m\u001b[0mX_train\u001b[0m\u001b[0;34m,\u001b[0m \u001b[0my_train\u001b[0m\u001b[0;34m)\u001b[0m\u001b[0;34m\u001b[0m\u001b[0;34m\u001b[0m\u001b[0m\n",
            "\u001b[0;32m/usr/local/lib/python3.7/dist-packages/pandas/core/frame.py\u001b[0m in \u001b[0;36m__getitem__\u001b[0;34m(self, key)\u001b[0m\n\u001b[1;32m   2910\u001b[0m             \u001b[0;32mif\u001b[0m \u001b[0mis_iterator\u001b[0m\u001b[0;34m(\u001b[0m\u001b[0mkey\u001b[0m\u001b[0;34m)\u001b[0m\u001b[0;34m:\u001b[0m\u001b[0;34m\u001b[0m\u001b[0;34m\u001b[0m\u001b[0m\n\u001b[1;32m   2911\u001b[0m                 \u001b[0mkey\u001b[0m \u001b[0;34m=\u001b[0m \u001b[0mlist\u001b[0m\u001b[0;34m(\u001b[0m\u001b[0mkey\u001b[0m\u001b[0;34m)\u001b[0m\u001b[0;34m\u001b[0m\u001b[0;34m\u001b[0m\u001b[0m\n\u001b[0;32m-> 2912\u001b[0;31m             \u001b[0mindexer\u001b[0m \u001b[0;34m=\u001b[0m \u001b[0mself\u001b[0m\u001b[0;34m.\u001b[0m\u001b[0mloc\u001b[0m\u001b[0;34m.\u001b[0m\u001b[0m_get_listlike_indexer\u001b[0m\u001b[0;34m(\u001b[0m\u001b[0mkey\u001b[0m\u001b[0;34m,\u001b[0m \u001b[0maxis\u001b[0m\u001b[0;34m=\u001b[0m\u001b[0;36m1\u001b[0m\u001b[0;34m,\u001b[0m \u001b[0mraise_missing\u001b[0m\u001b[0;34m=\u001b[0m\u001b[0;32mTrue\u001b[0m\u001b[0;34m)\u001b[0m\u001b[0;34m[\u001b[0m\u001b[0;36m1\u001b[0m\u001b[0;34m]\u001b[0m\u001b[0;34m\u001b[0m\u001b[0;34m\u001b[0m\u001b[0m\n\u001b[0m\u001b[1;32m   2913\u001b[0m \u001b[0;34m\u001b[0m\u001b[0m\n\u001b[1;32m   2914\u001b[0m         \u001b[0;31m# take() does not accept boolean indexers\u001b[0m\u001b[0;34m\u001b[0m\u001b[0;34m\u001b[0m\u001b[0;34m\u001b[0m\u001b[0m\n",
            "\u001b[0;32m/usr/local/lib/python3.7/dist-packages/pandas/core/indexing.py\u001b[0m in \u001b[0;36m_get_listlike_indexer\u001b[0;34m(self, key, axis, raise_missing)\u001b[0m\n\u001b[1;32m   1252\u001b[0m             \u001b[0mkeyarr\u001b[0m\u001b[0;34m,\u001b[0m \u001b[0mindexer\u001b[0m\u001b[0;34m,\u001b[0m \u001b[0mnew_indexer\u001b[0m \u001b[0;34m=\u001b[0m \u001b[0max\u001b[0m\u001b[0;34m.\u001b[0m\u001b[0m_reindex_non_unique\u001b[0m\u001b[0;34m(\u001b[0m\u001b[0mkeyarr\u001b[0m\u001b[0;34m)\u001b[0m\u001b[0;34m\u001b[0m\u001b[0;34m\u001b[0m\u001b[0m\n\u001b[1;32m   1253\u001b[0m \u001b[0;34m\u001b[0m\u001b[0m\n\u001b[0;32m-> 1254\u001b[0;31m         \u001b[0mself\u001b[0m\u001b[0;34m.\u001b[0m\u001b[0m_validate_read_indexer\u001b[0m\u001b[0;34m(\u001b[0m\u001b[0mkeyarr\u001b[0m\u001b[0;34m,\u001b[0m \u001b[0mindexer\u001b[0m\u001b[0;34m,\u001b[0m \u001b[0maxis\u001b[0m\u001b[0;34m,\u001b[0m \u001b[0mraise_missing\u001b[0m\u001b[0;34m=\u001b[0m\u001b[0mraise_missing\u001b[0m\u001b[0;34m)\u001b[0m\u001b[0;34m\u001b[0m\u001b[0;34m\u001b[0m\u001b[0m\n\u001b[0m\u001b[1;32m   1255\u001b[0m         \u001b[0;32mreturn\u001b[0m \u001b[0mkeyarr\u001b[0m\u001b[0;34m,\u001b[0m \u001b[0mindexer\u001b[0m\u001b[0;34m\u001b[0m\u001b[0;34m\u001b[0m\u001b[0m\n\u001b[1;32m   1256\u001b[0m \u001b[0;34m\u001b[0m\u001b[0m\n",
            "\u001b[0;32m/usr/local/lib/python3.7/dist-packages/pandas/core/indexing.py\u001b[0m in \u001b[0;36m_validate_read_indexer\u001b[0;34m(self, key, indexer, axis, raise_missing)\u001b[0m\n\u001b[1;32m   1296\u001b[0m             \u001b[0;32mif\u001b[0m \u001b[0mmissing\u001b[0m \u001b[0;34m==\u001b[0m \u001b[0mlen\u001b[0m\u001b[0;34m(\u001b[0m\u001b[0mindexer\u001b[0m\u001b[0;34m)\u001b[0m\u001b[0;34m:\u001b[0m\u001b[0;34m\u001b[0m\u001b[0;34m\u001b[0m\u001b[0m\n\u001b[1;32m   1297\u001b[0m                 \u001b[0maxis_name\u001b[0m \u001b[0;34m=\u001b[0m \u001b[0mself\u001b[0m\u001b[0;34m.\u001b[0m\u001b[0mobj\u001b[0m\u001b[0;34m.\u001b[0m\u001b[0m_get_axis_name\u001b[0m\u001b[0;34m(\u001b[0m\u001b[0maxis\u001b[0m\u001b[0;34m)\u001b[0m\u001b[0;34m\u001b[0m\u001b[0;34m\u001b[0m\u001b[0m\n\u001b[0;32m-> 1298\u001b[0;31m                 \u001b[0;32mraise\u001b[0m \u001b[0mKeyError\u001b[0m\u001b[0;34m(\u001b[0m\u001b[0;34mf\"None of [{key}] are in the [{axis_name}]\"\u001b[0m\u001b[0;34m)\u001b[0m\u001b[0;34m\u001b[0m\u001b[0;34m\u001b[0m\u001b[0m\n\u001b[0m\u001b[1;32m   1299\u001b[0m \u001b[0;34m\u001b[0m\u001b[0m\n\u001b[1;32m   1300\u001b[0m             \u001b[0;31m# We (temporarily) allow for some missing keys with .loc, except in\u001b[0m\u001b[0;34m\u001b[0m\u001b[0;34m\u001b[0m\u001b[0;34m\u001b[0m\u001b[0m\n",
            "\u001b[0;31mKeyError\u001b[0m: \"None of [Int64Index([1411, 1412, 1413, 1414, 1415, 1416, 1417, 1418, 1419, 1420,\\n            ...\\n            2811, 2812, 2813, 2814, 2815, 2816, 2817, 2818, 2819, 2820],\\n           dtype='int64', length=1410)] are in the [columns]\""
          ]
        }
      ]
    },
    {
      "cell_type": "code",
      "metadata": {
        "colab": {
          "base_uri": "https://localhost:8080/"
        },
        "id": "NfElv_ipqW9t",
        "outputId": "6b9e2436-ca44-479f-ffbe-fb982fb1c1b7"
      },
      "source": [
        "from xgboost import XGBRegressor \n",
        "\n",
        "xgb1 = XGBRegressor()\n",
        "parameters = {'learning_rate': [.03, 0.05, .07], # values should be in range from o to 1 or single values  its upto User\n",
        "              'max_depth': [5, 6, 7],# values should be in range(min should be 2 max could be anything) or single values  its upto User\n",
        "              'min_child_weight': [4],# values should be in range(min should be 0 max could be anything) or single values  its upto User\n",
        "              'gamma': [0.7],#values should be in range(min should be 0 max could be anything) or single values  its upto User\n",
        "              'colsample_bytree': [0.7],#values should be in range(min should be 0 max could be anything) or single values  its upto User\n",
        "              'n_estimators': [500]}# this already we are taking care in App as RF model\n",
        "grid_search = GridSearchCV(xgb1,param_grid = parameters,cv=3)\n",
        "grid_search.fit(feature_train_df,target_train_df)\n",
        "print('optimal parameters are :',grid_search.best_params_)\n",
        "print('Evaluating the model on unseen test data')\n",
        "\n",
        "\n",
        "pred = grid_search.predict(final_test_df)\n",
        "rmse= np.sqrt(mean_squared_error(pred,test_df['me_ho']))\n",
        "print(\"Random Forest after GridSearch RMSE : \",rmse)"
      ],
      "execution_count": null,
      "outputs": [
        {
          "output_type": "stream",
          "text": [
            "[10:36:03] WARNING: /workspace/src/objective/regression_obj.cu:152: reg:linear is now deprecated in favor of reg:squarederror.\n",
            "[10:36:04] WARNING: /workspace/src/objective/regression_obj.cu:152: reg:linear is now deprecated in favor of reg:squarederror.\n",
            "[10:36:05] WARNING: /workspace/src/objective/regression_obj.cu:152: reg:linear is now deprecated in favor of reg:squarederror.\n",
            "[10:36:06] WARNING: /workspace/src/objective/regression_obj.cu:152: reg:linear is now deprecated in favor of reg:squarederror.\n",
            "[10:36:07] WARNING: /workspace/src/objective/regression_obj.cu:152: reg:linear is now deprecated in favor of reg:squarederror.\n",
            "[10:36:08] WARNING: /workspace/src/objective/regression_obj.cu:152: reg:linear is now deprecated in favor of reg:squarederror.\n",
            "[10:36:09] WARNING: /workspace/src/objective/regression_obj.cu:152: reg:linear is now deprecated in favor of reg:squarederror.\n",
            "[10:36:11] WARNING: /workspace/src/objective/regression_obj.cu:152: reg:linear is now deprecated in favor of reg:squarederror.\n",
            "[10:36:12] WARNING: /workspace/src/objective/regression_obj.cu:152: reg:linear is now deprecated in favor of reg:squarederror.\n",
            "[10:36:13] WARNING: /workspace/src/objective/regression_obj.cu:152: reg:linear is now deprecated in favor of reg:squarederror.\n",
            "[10:36:14] WARNING: /workspace/src/objective/regression_obj.cu:152: reg:linear is now deprecated in favor of reg:squarederror.\n",
            "[10:36:15] WARNING: /workspace/src/objective/regression_obj.cu:152: reg:linear is now deprecated in favor of reg:squarederror.\n",
            "[10:36:16] WARNING: /workspace/src/objective/regression_obj.cu:152: reg:linear is now deprecated in favor of reg:squarederror.\n",
            "[10:36:17] WARNING: /workspace/src/objective/regression_obj.cu:152: reg:linear is now deprecated in favor of reg:squarederror.\n",
            "[10:36:18] WARNING: /workspace/src/objective/regression_obj.cu:152: reg:linear is now deprecated in favor of reg:squarederror.\n",
            "[10:36:19] WARNING: /workspace/src/objective/regression_obj.cu:152: reg:linear is now deprecated in favor of reg:squarederror.\n",
            "[10:36:21] WARNING: /workspace/src/objective/regression_obj.cu:152: reg:linear is now deprecated in favor of reg:squarederror.\n",
            "[10:36:22] WARNING: /workspace/src/objective/regression_obj.cu:152: reg:linear is now deprecated in favor of reg:squarederror.\n",
            "[10:36:23] WARNING: /workspace/src/objective/regression_obj.cu:152: reg:linear is now deprecated in favor of reg:squarederror.\n",
            "[10:36:24] WARNING: /workspace/src/objective/regression_obj.cu:152: reg:linear is now deprecated in favor of reg:squarederror.\n",
            "[10:36:25] WARNING: /workspace/src/objective/regression_obj.cu:152: reg:linear is now deprecated in favor of reg:squarederror.\n",
            "[10:36:26] WARNING: /workspace/src/objective/regression_obj.cu:152: reg:linear is now deprecated in favor of reg:squarederror.\n",
            "[10:36:27] WARNING: /workspace/src/objective/regression_obj.cu:152: reg:linear is now deprecated in favor of reg:squarederror.\n",
            "[10:36:28] WARNING: /workspace/src/objective/regression_obj.cu:152: reg:linear is now deprecated in favor of reg:squarederror.\n",
            "[10:36:29] WARNING: /workspace/src/objective/regression_obj.cu:152: reg:linear is now deprecated in favor of reg:squarederror.\n",
            "[10:36:30] WARNING: /workspace/src/objective/regression_obj.cu:152: reg:linear is now deprecated in favor of reg:squarederror.\n",
            "[10:36:31] WARNING: /workspace/src/objective/regression_obj.cu:152: reg:linear is now deprecated in favor of reg:squarederror.\n",
            "[10:36:32] WARNING: /workspace/src/objective/regression_obj.cu:152: reg:linear is now deprecated in favor of reg:squarederror.\n",
            "optimal parameters are : {'colsample_bytree': 0.7, 'gamma': 0.7, 'learning_rate': 0.03, 'max_depth': 5, 'min_child_weight': 4, 'n_estimators': 500}\n",
            "Evaluating the model on unseen test data\n",
            "Random Forest after GridSearch RMSE :  2.933653812113984\n"
          ],
          "name": "stdout"
        }
      ]
    },
    {
      "cell_type": "code",
      "metadata": {
        "colab": {
          "base_uri": "https://localhost:8080/",
          "height": 225
        },
        "id": "uODKputVqW06",
        "outputId": "8fd48176-52e3-4e03-cd99-f2690f3e2c44"
      },
      "source": [
        "pred_df = pd.DataFrame(pred.round(1),columns=['XGBooast'],index=test_df.index)\n",
        "xg_pred_act_df = pd.concat([pred_df,test_df['me_ho']],1)\n",
        "xg_pred_act_df.head()\n",
        "xg_pred_act_df.head()"
      ],
      "execution_count": null,
      "outputs": [
        {
          "output_type": "execute_result",
          "data": {
            "text/html": [
              "<div>\n",
              "<style scoped>\n",
              "    .dataframe tbody tr th:only-of-type {\n",
              "        vertical-align: middle;\n",
              "    }\n",
              "\n",
              "    .dataframe tbody tr th {\n",
              "        vertical-align: top;\n",
              "    }\n",
              "\n",
              "    .dataframe thead th {\n",
              "        text-align: right;\n",
              "    }\n",
              "</style>\n",
              "<table border=\"1\" class=\"dataframe\">\n",
              "  <thead>\n",
              "    <tr style=\"text-align: right;\">\n",
              "      <th></th>\n",
              "      <th>XGBooast</th>\n",
              "      <th>me_ho</th>\n",
              "    </tr>\n",
              "    <tr>\n",
              "      <th>Date</th>\n",
              "      <th></th>\n",
              "      <th></th>\n",
              "    </tr>\n",
              "  </thead>\n",
              "  <tbody>\n",
              "    <tr>\n",
              "      <th>06-09-2016</th>\n",
              "      <td>15.800000</td>\n",
              "      <td>11.1</td>\n",
              "    </tr>\n",
              "    <tr>\n",
              "      <th>07-09-2016</th>\n",
              "      <td>15.600000</td>\n",
              "      <td>7.4</td>\n",
              "    </tr>\n",
              "    <tr>\n",
              "      <th>08-09-2016</th>\n",
              "      <td>16.400000</td>\n",
              "      <td>9.9</td>\n",
              "    </tr>\n",
              "    <tr>\n",
              "      <th>09-09-2016</th>\n",
              "      <td>17.799999</td>\n",
              "      <td>9.7</td>\n",
              "    </tr>\n",
              "    <tr>\n",
              "      <th>10-09-2016</th>\n",
              "      <td>16.700001</td>\n",
              "      <td>9.2</td>\n",
              "    </tr>\n",
              "  </tbody>\n",
              "</table>\n",
              "</div>"
            ],
            "text/plain": [
              "             XGBooast  me_ho\n",
              "Date                        \n",
              "06-09-2016  15.800000   11.1\n",
              "07-09-2016  15.600000    7.4\n",
              "08-09-2016  16.400000    9.9\n",
              "09-09-2016  17.799999    9.7\n",
              "10-09-2016  16.700001    9.2"
            ]
          },
          "metadata": {
            "tags": []
          },
          "execution_count": 37
        }
      ]
    },
    {
      "cell_type": "code",
      "metadata": {
        "id": "hPYv67STKqHy"
      },
      "source": [
        ""
      ],
      "execution_count": null,
      "outputs": []
    },
    {
      "cell_type": "code",
      "metadata": {
        "id": "zDh7fQHbKqFE"
      },
      "source": [
        ""
      ],
      "execution_count": null,
      "outputs": []
    },
    {
      "cell_type": "code",
      "metadata": {
        "id": "urwqj0DWKqCo"
      },
      "source": [
        ""
      ],
      "execution_count": null,
      "outputs": []
    },
    {
      "cell_type": "code",
      "metadata": {
        "id": "maCLDIwvKqAd"
      },
      "source": [
        ""
      ],
      "execution_count": null,
      "outputs": []
    },
    {
      "cell_type": "code",
      "metadata": {
        "id": "VAnBszkzKp9r"
      },
      "source": [
        ""
      ],
      "execution_count": null,
      "outputs": []
    },
    {
      "cell_type": "code",
      "metadata": {
        "id": "Y15BKs8sKp65"
      },
      "source": [
        ""
      ],
      "execution_count": null,
      "outputs": []
    },
    {
      "cell_type": "code",
      "metadata": {
        "id": "lXUJ-XhqKp4Z"
      },
      "source": [
        ""
      ],
      "execution_count": null,
      "outputs": []
    },
    {
      "cell_type": "code",
      "metadata": {
        "id": "zuL4jvq4Kp1p"
      },
      "source": [
        ""
      ],
      "execution_count": null,
      "outputs": []
    },
    {
      "cell_type": "code",
      "metadata": {
        "id": "wxfM_SKPKpxl"
      },
      "source": [
        ""
      ],
      "execution_count": null,
      "outputs": []
    },
    {
      "cell_type": "code",
      "metadata": {
        "id": "y7V7NhaOKpum"
      },
      "source": [
        ""
      ],
      "execution_count": null,
      "outputs": []
    },
    {
      "cell_type": "code",
      "metadata": {
        "id": "tJ_9nGB7Kprp"
      },
      "source": [
        ""
      ],
      "execution_count": null,
      "outputs": []
    },
    {
      "cell_type": "code",
      "metadata": {
        "id": "W3Tr69yxKpo2"
      },
      "source": [
        ""
      ],
      "execution_count": null,
      "outputs": []
    },
    {
      "cell_type": "code",
      "metadata": {
        "colab": {
          "base_uri": "https://localhost:8080/"
        },
        "id": "t9nrjzv-EH45",
        "outputId": "0ce8eb7f-8c11-4cc9-9fac-bc3eec72e72a"
      },
      "source": [
        "df['report date'] = pd.to_datetime(df['report date'])\n",
        "df.dtypes"
      ],
      "execution_count": null,
      "outputs": [
        {
          "output_type": "execute_result",
          "data": {
            "text/plain": [
              "vsl_name               object\n",
              "IMO NO                  int64\n",
              "report date    datetime64[ns]\n",
              "GMT time               object\n",
              "dft_fwd               float64\n",
              "dft_aft               float64\n",
              "displ                   int64\n",
              "w_force                object\n",
              "w_dir                  object\n",
              "rel_deg1               object\n",
              "sea_st                 object\n",
              "stm_hrs               float64\n",
              "dst_last              float64\n",
              "swell                  object\n",
              "rel_deg2               object\n",
              "rpm                   float64\n",
              "slip                  float64\n",
              "me_ho                 float64\n",
              "curfavagt              object\n",
              "curknots              float64\n",
              "dtype: object"
            ]
          },
          "metadata": {
            "tags": []
          },
          "execution_count": 8
        }
      ]
    },
    {
      "cell_type": "code",
      "metadata": {
        "colab": {
          "base_uri": "https://localhost:8080/",
          "height": 296
        },
        "id": "vODK90rnFriu",
        "outputId": "cb4e9218-0597-4098-bfae-21f9a4ec8256"
      },
      "source": [
        "df.head()"
      ],
      "execution_count": null,
      "outputs": [
        {
          "output_type": "execute_result",
          "data": {
            "text/html": [
              "<div>\n",
              "<style scoped>\n",
              "    .dataframe tbody tr th:only-of-type {\n",
              "        vertical-align: middle;\n",
              "    }\n",
              "\n",
              "    .dataframe tbody tr th {\n",
              "        vertical-align: top;\n",
              "    }\n",
              "\n",
              "    .dataframe thead th {\n",
              "        text-align: right;\n",
              "    }\n",
              "</style>\n",
              "<table border=\"1\" class=\"dataframe\">\n",
              "  <thead>\n",
              "    <tr style=\"text-align: right;\">\n",
              "      <th></th>\n",
              "      <th>vsl_name</th>\n",
              "      <th>IMO NO</th>\n",
              "      <th>report date</th>\n",
              "      <th>GMT time</th>\n",
              "      <th>dft_fwd</th>\n",
              "      <th>dft_aft</th>\n",
              "      <th>displ</th>\n",
              "      <th>w_force</th>\n",
              "      <th>w_dir</th>\n",
              "      <th>rel_deg1</th>\n",
              "      <th>sea_st</th>\n",
              "      <th>stm_hrs</th>\n",
              "      <th>dst_last</th>\n",
              "      <th>swell</th>\n",
              "      <th>rel_deg2</th>\n",
              "      <th>rpm</th>\n",
              "      <th>slip</th>\n",
              "      <th>me_ho</th>\n",
              "      <th>curfavagt</th>\n",
              "      <th>curknots</th>\n",
              "    </tr>\n",
              "  </thead>\n",
              "  <tbody>\n",
              "    <tr>\n",
              "      <th>0</th>\n",
              "      <td>MRT  MASTAN</td>\n",
              "      <td>6461375</td>\n",
              "      <td>2015-12-07 12:00:00</td>\n",
              "      <td>12-7-15 3:00</td>\n",
              "      <td>8.32</td>\n",
              "      <td>9.75</td>\n",
              "      <td>907807</td>\n",
              "      <td>5</td>\n",
              "      <td>E</td>\n",
              "      <td>298</td>\n",
              "      <td>MODERATE</td>\n",
              "      <td>23.0</td>\n",
              "      <td>314.0</td>\n",
              "      <td>2</td>\n",
              "      <td>298</td>\n",
              "      <td>82.8</td>\n",
              "      <td>7.37</td>\n",
              "      <td>56.9</td>\n",
              "      <td>A</td>\n",
              "      <td>0.5</td>\n",
              "    </tr>\n",
              "    <tr>\n",
              "      <th>1</th>\n",
              "      <td>MRT DAMPIER</td>\n",
              "      <td>6461325</td>\n",
              "      <td>2016-11-20 12:00:00</td>\n",
              "      <td>11-20-16 4:00</td>\n",
              "      <td>18.39</td>\n",
              "      <td>18.39</td>\n",
              "      <td>324007</td>\n",
              "      <td>5</td>\n",
              "      <td>NE</td>\n",
              "      <td>20</td>\n",
              "      <td>MODERATE</td>\n",
              "      <td>24.0</td>\n",
              "      <td>230.0</td>\n",
              "      <td>2</td>\n",
              "      <td>63</td>\n",
              "      <td>64.3</td>\n",
              "      <td>17.00</td>\n",
              "      <td>30.2</td>\n",
              "      <td>-</td>\n",
              "      <td>0.8</td>\n",
              "    </tr>\n",
              "    <tr>\n",
              "      <th>2</th>\n",
              "      <td>MRT DAMPIER</td>\n",
              "      <td>6461325</td>\n",
              "      <td>2016-11-21 12:00:00</td>\n",
              "      <td>11-21-16 4:00</td>\n",
              "      <td>18.27</td>\n",
              "      <td>18.39</td>\n",
              "      <td>324007</td>\n",
              "      <td>3</td>\n",
              "      <td>NE</td>\n",
              "      <td>10</td>\n",
              "      <td>MODERATE</td>\n",
              "      <td>24.0</td>\n",
              "      <td>238.0</td>\n",
              "      <td>1</td>\n",
              "      <td>80</td>\n",
              "      <td>64.3</td>\n",
              "      <td>14.10</td>\n",
              "      <td>29.2</td>\n",
              "      <td>-</td>\n",
              "      <td>0.7</td>\n",
              "    </tr>\n",
              "    <tr>\n",
              "      <th>3</th>\n",
              "      <td>MRT MASTAN</td>\n",
              "      <td>6461375</td>\n",
              "      <td>2016-04-23 12:00:00</td>\n",
              "      <td>4-23-16 4:00</td>\n",
              "      <td>18.35</td>\n",
              "      <td>18.45</td>\n",
              "      <td>234682</td>\n",
              "      <td>4</td>\n",
              "      <td>SE</td>\n",
              "      <td>141</td>\n",
              "      <td>SLIGHT</td>\n",
              "      <td>12.0</td>\n",
              "      <td>119.0</td>\n",
              "      <td></td>\n",
              "      <td>141</td>\n",
              "      <td>62.7</td>\n",
              "      <td>11.19</td>\n",
              "      <td>12.6</td>\n",
              "      <td>+</td>\n",
              "      <td>0.0</td>\n",
              "    </tr>\n",
              "    <tr>\n",
              "      <th>4</th>\n",
              "      <td>MRT MASTAN</td>\n",
              "      <td>6461375</td>\n",
              "      <td>2016-04-24 12:00:00</td>\n",
              "      <td>4-24-16 4:00</td>\n",
              "      <td>18.35</td>\n",
              "      <td>18.45</td>\n",
              "      <td>234682</td>\n",
              "      <td>4</td>\n",
              "      <td>E</td>\n",
              "      <td>99</td>\n",
              "      <td>SLIGHT</td>\n",
              "      <td>24.0</td>\n",
              "      <td>244.0</td>\n",
              "      <td>1</td>\n",
              "      <td>279</td>\n",
              "      <td>62.6</td>\n",
              "      <td>8.61</td>\n",
              "      <td>26.1</td>\n",
              "      <td>+</td>\n",
              "      <td>0.5</td>\n",
              "    </tr>\n",
              "  </tbody>\n",
              "</table>\n",
              "</div>"
            ],
            "text/plain": [
              "      vsl_name   IMO NO         report date       GMT time  dft_fwd  dft_aft  \\\n",
              "0  MRT  MASTAN  6461375 2015-12-07 12:00:00   12-7-15 3:00     8.32     9.75   \n",
              "1  MRT DAMPIER  6461325 2016-11-20 12:00:00  11-20-16 4:00    18.39    18.39   \n",
              "2  MRT DAMPIER  6461325 2016-11-21 12:00:00  11-21-16 4:00    18.27    18.39   \n",
              "3   MRT MASTAN  6461375 2016-04-23 12:00:00   4-23-16 4:00    18.35    18.45   \n",
              "4   MRT MASTAN  6461375 2016-04-24 12:00:00   4-24-16 4:00    18.35    18.45   \n",
              "\n",
              "    displ w_force                 w_dir rel_deg1                sea_st  \\\n",
              "0  907807       5                     E      298              MODERATE   \n",
              "1  324007       5  NE                         20  MODERATE               \n",
              "2  324007       3  NE                         10  MODERATE               \n",
              "3  234682       4  SE                        141  SLIGHT                 \n",
              "4  234682       4  E                          99  SLIGHT                 \n",
              "\n",
              "   stm_hrs  dst_last                 swell rel_deg2   rpm   slip  me_ho  \\\n",
              "0     23.0     314.0                     2      298  82.8   7.37   56.9   \n",
              "1     24.0     230.0                     2       63  64.3  17.00   30.2   \n",
              "2     24.0     238.0                     1       80  64.3  14.10   29.2   \n",
              "3     12.0     119.0                            141  62.7  11.19   12.6   \n",
              "4     24.0     244.0                     1      279  62.6   8.61   26.1   \n",
              "\n",
              "  curfavagt  curknots  \n",
              "0         A       0.5  \n",
              "1         -       0.8  \n",
              "2         -       0.7  \n",
              "3         +       0.0  \n",
              "4         +       0.5  "
            ]
          },
          "metadata": {
            "tags": []
          },
          "execution_count": 9
        }
      ]
    },
    {
      "cell_type": "code",
      "metadata": {
        "colab": {
          "base_uri": "https://localhost:8080/",
          "height": 380
        },
        "id": "JmzZ_kFsIjsG",
        "outputId": "f4bc6eca-e667-4ba3-e0b5-61195aa1b072"
      },
      "source": [
        "df['Date'] = df['report date'].dt.date\n",
        "df.head()"
      ],
      "execution_count": null,
      "outputs": [
        {
          "output_type": "execute_result",
          "data": {
            "text/html": [
              "<div>\n",
              "<style scoped>\n",
              "    .dataframe tbody tr th:only-of-type {\n",
              "        vertical-align: middle;\n",
              "    }\n",
              "\n",
              "    .dataframe tbody tr th {\n",
              "        vertical-align: top;\n",
              "    }\n",
              "\n",
              "    .dataframe thead th {\n",
              "        text-align: right;\n",
              "    }\n",
              "</style>\n",
              "<table border=\"1\" class=\"dataframe\">\n",
              "  <thead>\n",
              "    <tr style=\"text-align: right;\">\n",
              "      <th></th>\n",
              "      <th>vsl_name</th>\n",
              "      <th>IMO NO</th>\n",
              "      <th>report date</th>\n",
              "      <th>GMT time</th>\n",
              "      <th>dft_fwd</th>\n",
              "      <th>dft_aft</th>\n",
              "      <th>displ</th>\n",
              "      <th>w_force</th>\n",
              "      <th>w_dir</th>\n",
              "      <th>rel_deg1</th>\n",
              "      <th>sea_st</th>\n",
              "      <th>stm_hrs</th>\n",
              "      <th>dst_last</th>\n",
              "      <th>swell</th>\n",
              "      <th>rel_deg2</th>\n",
              "      <th>rpm</th>\n",
              "      <th>slip</th>\n",
              "      <th>me_ho</th>\n",
              "      <th>curfavagt</th>\n",
              "      <th>curknots</th>\n",
              "      <th>Date</th>\n",
              "    </tr>\n",
              "  </thead>\n",
              "  <tbody>\n",
              "    <tr>\n",
              "      <th>0</th>\n",
              "      <td>MRT  MASTAN</td>\n",
              "      <td>6461375</td>\n",
              "      <td>2015-12-07 12:00:00</td>\n",
              "      <td>12-7-15 3:00</td>\n",
              "      <td>8.32</td>\n",
              "      <td>9.75</td>\n",
              "      <td>907807</td>\n",
              "      <td>5</td>\n",
              "      <td>E</td>\n",
              "      <td>298</td>\n",
              "      <td>MODERATE</td>\n",
              "      <td>23.0</td>\n",
              "      <td>314.0</td>\n",
              "      <td>2</td>\n",
              "      <td>298</td>\n",
              "      <td>82.8</td>\n",
              "      <td>7.37</td>\n",
              "      <td>56.9</td>\n",
              "      <td>A</td>\n",
              "      <td>0.5</td>\n",
              "      <td>2015-12-07</td>\n",
              "    </tr>\n",
              "    <tr>\n",
              "      <th>1</th>\n",
              "      <td>MRT DAMPIER</td>\n",
              "      <td>6461325</td>\n",
              "      <td>2016-11-20 12:00:00</td>\n",
              "      <td>11-20-16 4:00</td>\n",
              "      <td>18.39</td>\n",
              "      <td>18.39</td>\n",
              "      <td>324007</td>\n",
              "      <td>5</td>\n",
              "      <td>NE</td>\n",
              "      <td>20</td>\n",
              "      <td>MODERATE</td>\n",
              "      <td>24.0</td>\n",
              "      <td>230.0</td>\n",
              "      <td>2</td>\n",
              "      <td>63</td>\n",
              "      <td>64.3</td>\n",
              "      <td>17.00</td>\n",
              "      <td>30.2</td>\n",
              "      <td>-</td>\n",
              "      <td>0.8</td>\n",
              "      <td>2016-11-20</td>\n",
              "    </tr>\n",
              "    <tr>\n",
              "      <th>2</th>\n",
              "      <td>MRT DAMPIER</td>\n",
              "      <td>6461325</td>\n",
              "      <td>2016-11-21 12:00:00</td>\n",
              "      <td>11-21-16 4:00</td>\n",
              "      <td>18.27</td>\n",
              "      <td>18.39</td>\n",
              "      <td>324007</td>\n",
              "      <td>3</td>\n",
              "      <td>NE</td>\n",
              "      <td>10</td>\n",
              "      <td>MODERATE</td>\n",
              "      <td>24.0</td>\n",
              "      <td>238.0</td>\n",
              "      <td>1</td>\n",
              "      <td>80</td>\n",
              "      <td>64.3</td>\n",
              "      <td>14.10</td>\n",
              "      <td>29.2</td>\n",
              "      <td>-</td>\n",
              "      <td>0.7</td>\n",
              "      <td>2016-11-21</td>\n",
              "    </tr>\n",
              "    <tr>\n",
              "      <th>3</th>\n",
              "      <td>MRT MASTAN</td>\n",
              "      <td>6461375</td>\n",
              "      <td>2016-04-23 12:00:00</td>\n",
              "      <td>4-23-16 4:00</td>\n",
              "      <td>18.35</td>\n",
              "      <td>18.45</td>\n",
              "      <td>234682</td>\n",
              "      <td>4</td>\n",
              "      <td>SE</td>\n",
              "      <td>141</td>\n",
              "      <td>SLIGHT</td>\n",
              "      <td>12.0</td>\n",
              "      <td>119.0</td>\n",
              "      <td></td>\n",
              "      <td>141</td>\n",
              "      <td>62.7</td>\n",
              "      <td>11.19</td>\n",
              "      <td>12.6</td>\n",
              "      <td>+</td>\n",
              "      <td>0.0</td>\n",
              "      <td>2016-04-23</td>\n",
              "    </tr>\n",
              "    <tr>\n",
              "      <th>4</th>\n",
              "      <td>MRT MASTAN</td>\n",
              "      <td>6461375</td>\n",
              "      <td>2016-04-24 12:00:00</td>\n",
              "      <td>4-24-16 4:00</td>\n",
              "      <td>18.35</td>\n",
              "      <td>18.45</td>\n",
              "      <td>234682</td>\n",
              "      <td>4</td>\n",
              "      <td>E</td>\n",
              "      <td>99</td>\n",
              "      <td>SLIGHT</td>\n",
              "      <td>24.0</td>\n",
              "      <td>244.0</td>\n",
              "      <td>1</td>\n",
              "      <td>279</td>\n",
              "      <td>62.6</td>\n",
              "      <td>8.61</td>\n",
              "      <td>26.1</td>\n",
              "      <td>+</td>\n",
              "      <td>0.5</td>\n",
              "      <td>2016-04-24</td>\n",
              "    </tr>\n",
              "  </tbody>\n",
              "</table>\n",
              "</div>"
            ],
            "text/plain": [
              "      vsl_name   IMO NO         report date       GMT time  dft_fwd  dft_aft  \\\n",
              "0  MRT  MASTAN  6461375 2015-12-07 12:00:00   12-7-15 3:00     8.32     9.75   \n",
              "1  MRT DAMPIER  6461325 2016-11-20 12:00:00  11-20-16 4:00    18.39    18.39   \n",
              "2  MRT DAMPIER  6461325 2016-11-21 12:00:00  11-21-16 4:00    18.27    18.39   \n",
              "3   MRT MASTAN  6461375 2016-04-23 12:00:00   4-23-16 4:00    18.35    18.45   \n",
              "4   MRT MASTAN  6461375 2016-04-24 12:00:00   4-24-16 4:00    18.35    18.45   \n",
              "\n",
              "    displ w_force                 w_dir rel_deg1                sea_st  \\\n",
              "0  907807       5                     E      298              MODERATE   \n",
              "1  324007       5  NE                         20  MODERATE               \n",
              "2  324007       3  NE                         10  MODERATE               \n",
              "3  234682       4  SE                        141  SLIGHT                 \n",
              "4  234682       4  E                          99  SLIGHT                 \n",
              "\n",
              "   stm_hrs  dst_last                 swell rel_deg2   rpm   slip  me_ho  \\\n",
              "0     23.0     314.0                     2      298  82.8   7.37   56.9   \n",
              "1     24.0     230.0                     2       63  64.3  17.00   30.2   \n",
              "2     24.0     238.0                     1       80  64.3  14.10   29.2   \n",
              "3     12.0     119.0                            141  62.7  11.19   12.6   \n",
              "4     24.0     244.0                     1      279  62.6   8.61   26.1   \n",
              "\n",
              "  curfavagt  curknots        Date  \n",
              "0         A       0.5  2015-12-07  \n",
              "1         -       0.8  2016-11-20  \n",
              "2         -       0.7  2016-11-21  \n",
              "3         +       0.0  2016-04-23  \n",
              "4         +       0.5  2016-04-24  "
            ]
          },
          "metadata": {
            "tags": []
          },
          "execution_count": 14
        }
      ]
    },
    {
      "cell_type": "code",
      "metadata": {
        "colab": {
          "base_uri": "https://localhost:8080/",
          "height": 17
        },
        "id": "RKQsKhQ3GxtI",
        "outputId": "d172aaa6-6f0c-4495-8e17-1bbdd48651ac"
      },
      "source": [
        "from google.colab import files\n",
        "\n",
        "# e.g. save pandas output as csv\n",
        "df.to_csv('New_Marine_data.csv')\n",
        "\n",
        "files.download('New_Marine_data.csv')"
      ],
      "execution_count": null,
      "outputs": [
        {
          "output_type": "display_data",
          "data": {
            "application/javascript": [
              "\n",
              "    async function download(id, filename, size) {\n",
              "      if (!google.colab.kernel.accessAllowed) {\n",
              "        return;\n",
              "      }\n",
              "      const div = document.createElement('div');\n",
              "      const label = document.createElement('label');\n",
              "      label.textContent = `Downloading \"${filename}\": `;\n",
              "      div.appendChild(label);\n",
              "      const progress = document.createElement('progress');\n",
              "      progress.max = size;\n",
              "      div.appendChild(progress);\n",
              "      document.body.appendChild(div);\n",
              "\n",
              "      const buffers = [];\n",
              "      let downloaded = 0;\n",
              "\n",
              "      const channel = await google.colab.kernel.comms.open(id);\n",
              "      // Send a message to notify the kernel that we're ready.\n",
              "      channel.send({})\n",
              "\n",
              "      for await (const message of channel.messages) {\n",
              "        // Send a message to notify the kernel that we're ready.\n",
              "        channel.send({})\n",
              "        if (message.buffers) {\n",
              "          for (const buffer of message.buffers) {\n",
              "            buffers.push(buffer);\n",
              "            downloaded += buffer.byteLength;\n",
              "            progress.value = downloaded;\n",
              "          }\n",
              "        }\n",
              "      }\n",
              "      const blob = new Blob(buffers, {type: 'application/binary'});\n",
              "      const a = document.createElement('a');\n",
              "      a.href = window.URL.createObjectURL(blob);\n",
              "      a.download = filename;\n",
              "      div.appendChild(a);\n",
              "      a.click();\n",
              "      div.remove();\n",
              "    }\n",
              "  "
            ],
            "text/plain": [
              "<IPython.core.display.Javascript object>"
            ]
          },
          "metadata": {
            "tags": []
          }
        },
        {
          "output_type": "display_data",
          "data": {
            "application/javascript": [
              "download(\"download_0a5d0955-1989-46f6-93fe-66de8f0e6b09\", \"New_Marine_data.csv\", 487468)"
            ],
            "text/plain": [
              "<IPython.core.display.Javascript object>"
            ]
          },
          "metadata": {
            "tags": []
          }
        }
      ]
    },
    {
      "cell_type": "code",
      "metadata": {
        "colab": {
          "base_uri": "https://localhost:8080/",
          "height": 228
        },
        "id": "abkAf9YXczGg",
        "outputId": "895a71ad-32fb-4b47-8c85-f32dd48f53db"
      },
      "source": [
        "# Function to identify categorical features\n",
        "def categorical_features(dataset):\n",
        "    categorical_col = dataset.select_dtypes(exclude=np.number).columns.tolist()\n",
        "    return dataset[categorical_col].head(), categorical_col\n",
        "\n",
        "categorical_columns = categorical_features(df)\n",
        "print(\"Categorical Features:\")\n",
        "print(categorical_columns)"
      ],
      "execution_count": null,
      "outputs": [
        {
          "output_type": "error",
          "ename": "NameError",
          "evalue": "ignored",
          "traceback": [
            "\u001b[0;31m---------------------------------------------------------------------------\u001b[0m",
            "\u001b[0;31mNameError\u001b[0m                                 Traceback (most recent call last)",
            "\u001b[0;32m<ipython-input-1-4c814f464029>\u001b[0m in \u001b[0;36m<module>\u001b[0;34m()\u001b[0m\n\u001b[1;32m      4\u001b[0m     \u001b[0;32mreturn\u001b[0m \u001b[0mdataset\u001b[0m\u001b[0;34m[\u001b[0m\u001b[0mcategorical_col\u001b[0m\u001b[0;34m]\u001b[0m\u001b[0;34m.\u001b[0m\u001b[0mhead\u001b[0m\u001b[0;34m(\u001b[0m\u001b[0;34m)\u001b[0m\u001b[0;34m,\u001b[0m \u001b[0mcategorical_col\u001b[0m\u001b[0;34m\u001b[0m\u001b[0;34m\u001b[0m\u001b[0m\n\u001b[1;32m      5\u001b[0m \u001b[0;34m\u001b[0m\u001b[0m\n\u001b[0;32m----> 6\u001b[0;31m \u001b[0mcategorical_columns\u001b[0m \u001b[0;34m=\u001b[0m \u001b[0mcategorical_features\u001b[0m\u001b[0;34m(\u001b[0m\u001b[0mdf\u001b[0m\u001b[0;34m)\u001b[0m\u001b[0;34m\u001b[0m\u001b[0;34m\u001b[0m\u001b[0m\n\u001b[0m\u001b[1;32m      7\u001b[0m \u001b[0mprint\u001b[0m\u001b[0;34m(\u001b[0m\u001b[0;34m\"Categorical Features:\"\u001b[0m\u001b[0;34m)\u001b[0m\u001b[0;34m\u001b[0m\u001b[0;34m\u001b[0m\u001b[0m\n\u001b[1;32m      8\u001b[0m \u001b[0mprint\u001b[0m\u001b[0;34m(\u001b[0m\u001b[0mcategorical_columns\u001b[0m\u001b[0;34m)\u001b[0m\u001b[0;34m\u001b[0m\u001b[0;34m\u001b[0m\u001b[0m\n",
            "\u001b[0;31mNameError\u001b[0m: name 'df' is not defined"
          ]
        }
      ]
    },
    {
      "cell_type": "code",
      "metadata": {
        "id": "YuE68v6odraq"
      },
      "source": [
        ""
      ],
      "execution_count": null,
      "outputs": []
    }
  ]
}